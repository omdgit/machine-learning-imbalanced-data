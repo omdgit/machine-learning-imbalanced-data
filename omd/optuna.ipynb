{
 "cells": [
  {
   "cell_type": "markdown",
   "metadata": {},
   "source": [
    "# Optuna - Hyperparameter Tuning"
   ]
  },
  {
   "cell_type": "code",
   "execution_count": 3,
   "metadata": {},
   "outputs": [],
   "source": [
    "import pandas as pd \n",
    "import numpy as np \n",
    "import matplotlib.pyplot as plt\n",
    "from sklearn.model_selection import train_test_split, cross_val_score\n",
    "from sklearn import metrics\n",
    "from xgboost import XGBClassifier "
   ]
  },
  {
   "cell_type": "code",
   "execution_count": 4,
   "metadata": {},
   "outputs": [],
   "source": [
    "import optuna\n",
    "from optuna.storages import RDBStorage\n",
    "# from optuna_dashboard import wsgi\n",
    "\n",
    "storage = RDBStorage(\"sqlite:///db.sqlite3\")\n",
    "# application = wsgi(storage)"
   ]
  },
  {
   "cell_type": "code",
   "execution_count": 5,
   "metadata": {},
   "outputs": [],
   "source": [
    "def performance(X, y, model, title=None):\n",
    "\n",
    "    # Predict probabilities on the test set\n",
    "    y_probs = model.predict_proba(X)[:, 1]\n",
    "    y_preds = model.predict(X)\n",
    "\n",
    "    # Calculate evaluation metrics\n",
    "    roc_auc = metrics.roc_auc_score(y, y_probs)\n",
    "    precision = metrics.precision_score(y, y_preds)\n",
    "    recall = metrics.recall_score(y, y_preds)\n",
    "    f1 = metrics.f1_score(y, y_preds)\n",
    "    aupr = metrics.average_precision_score(y, y_probs)\n",
    "\n",
    "    if title is None:\n",
    "        title = 'Performance metrics:'\n",
    "    else:\n",
    "        title = f'Performance metrics: {title}'\n",
    "    print(title)\n",
    "    print(\"ROC AUC:\".ljust(10) + f\"{roc_auc:.2%}\".rjust(8))\n",
    "    print(\"Precision:\".ljust(10) + f\"{precision:.2%}\".rjust(8))\n",
    "    print(\"Recall:\".ljust(10) + f\"{recall:.2%}\".rjust(8))\n",
    "    print(\"F1:\".ljust(10) + f\"{f1:.2%}\".rjust(8))\n",
    "    print(\"AUPRC:\".ljust(10) + f\"{aupr:.2%}\".rjust(8))\n",
    "    print()"
   ]
  },
  {
   "cell_type": "code",
   "execution_count": 6,
   "metadata": {},
   "outputs": [
    {
     "data": {
      "text/html": [
       "<div>\n",
       "<style scoped>\n",
       "    .dataframe tbody tr th:only-of-type {\n",
       "        vertical-align: middle;\n",
       "    }\n",
       "\n",
       "    .dataframe tbody tr th {\n",
       "        vertical-align: top;\n",
       "    }\n",
       "\n",
       "    .dataframe thead th {\n",
       "        text-align: right;\n",
       "    }\n",
       "</style>\n",
       "<table border=\"1\" class=\"dataframe\">\n",
       "  <thead>\n",
       "    <tr style=\"text-align: right;\">\n",
       "      <th></th>\n",
       "      <th>0</th>\n",
       "      <th>1</th>\n",
       "      <th>2</th>\n",
       "      <th>3</th>\n",
       "      <th>4</th>\n",
       "      <th>5</th>\n",
       "      <th>6</th>\n",
       "      <th>7</th>\n",
       "      <th>8</th>\n",
       "      <th>9</th>\n",
       "      <th>...</th>\n",
       "      <th>65</th>\n",
       "      <th>66</th>\n",
       "      <th>67</th>\n",
       "      <th>68</th>\n",
       "      <th>69</th>\n",
       "      <th>70</th>\n",
       "      <th>71</th>\n",
       "      <th>72</th>\n",
       "      <th>73</th>\n",
       "      <th>target</th>\n",
       "    </tr>\n",
       "  </thead>\n",
       "  <tbody>\n",
       "    <tr>\n",
       "      <th>0</th>\n",
       "      <td>52.0</td>\n",
       "      <td>32.69</td>\n",
       "      <td>0.30</td>\n",
       "      <td>2.5</td>\n",
       "      <td>20.0</td>\n",
       "      <td>1256.8</td>\n",
       "      <td>-0.89</td>\n",
       "      <td>0.33</td>\n",
       "      <td>11.0</td>\n",
       "      <td>-55.0</td>\n",
       "      <td>...</td>\n",
       "      <td>1595.1</td>\n",
       "      <td>-1.64</td>\n",
       "      <td>2.83</td>\n",
       "      <td>-2.0</td>\n",
       "      <td>-50.0</td>\n",
       "      <td>445.2</td>\n",
       "      <td>-0.35</td>\n",
       "      <td>0.26</td>\n",
       "      <td>0.76</td>\n",
       "      <td>0</td>\n",
       "    </tr>\n",
       "    <tr>\n",
       "      <th>1</th>\n",
       "      <td>58.0</td>\n",
       "      <td>33.33</td>\n",
       "      <td>0.00</td>\n",
       "      <td>16.5</td>\n",
       "      <td>9.5</td>\n",
       "      <td>608.1</td>\n",
       "      <td>0.50</td>\n",
       "      <td>0.07</td>\n",
       "      <td>20.5</td>\n",
       "      <td>-52.5</td>\n",
       "      <td>...</td>\n",
       "      <td>762.9</td>\n",
       "      <td>0.29</td>\n",
       "      <td>0.82</td>\n",
       "      <td>-3.0</td>\n",
       "      <td>-35.0</td>\n",
       "      <td>140.3</td>\n",
       "      <td>1.16</td>\n",
       "      <td>0.39</td>\n",
       "      <td>0.73</td>\n",
       "      <td>0</td>\n",
       "    </tr>\n",
       "    <tr>\n",
       "      <th>2</th>\n",
       "      <td>77.0</td>\n",
       "      <td>27.27</td>\n",
       "      <td>-0.91</td>\n",
       "      <td>6.0</td>\n",
       "      <td>58.5</td>\n",
       "      <td>1623.6</td>\n",
       "      <td>-1.40</td>\n",
       "      <td>0.02</td>\n",
       "      <td>-6.5</td>\n",
       "      <td>-48.0</td>\n",
       "      <td>...</td>\n",
       "      <td>1491.8</td>\n",
       "      <td>0.32</td>\n",
       "      <td>-1.29</td>\n",
       "      <td>0.0</td>\n",
       "      <td>-34.0</td>\n",
       "      <td>658.2</td>\n",
       "      <td>-0.76</td>\n",
       "      <td>0.26</td>\n",
       "      <td>0.24</td>\n",
       "      <td>0</td>\n",
       "    </tr>\n",
       "    <tr>\n",
       "      <th>3</th>\n",
       "      <td>41.0</td>\n",
       "      <td>27.91</td>\n",
       "      <td>-0.35</td>\n",
       "      <td>3.0</td>\n",
       "      <td>46.0</td>\n",
       "      <td>1921.6</td>\n",
       "      <td>-1.36</td>\n",
       "      <td>-0.47</td>\n",
       "      <td>-32.0</td>\n",
       "      <td>-51.5</td>\n",
       "      <td>...</td>\n",
       "      <td>2047.7</td>\n",
       "      <td>-0.98</td>\n",
       "      <td>1.53</td>\n",
       "      <td>0.0</td>\n",
       "      <td>-49.0</td>\n",
       "      <td>554.2</td>\n",
       "      <td>-0.83</td>\n",
       "      <td>0.39</td>\n",
       "      <td>0.73</td>\n",
       "      <td>0</td>\n",
       "    </tr>\n",
       "    <tr>\n",
       "      <th>4</th>\n",
       "      <td>50.0</td>\n",
       "      <td>28.00</td>\n",
       "      <td>-1.32</td>\n",
       "      <td>-9.0</td>\n",
       "      <td>12.0</td>\n",
       "      <td>464.8</td>\n",
       "      <td>0.88</td>\n",
       "      <td>0.19</td>\n",
       "      <td>8.0</td>\n",
       "      <td>-51.5</td>\n",
       "      <td>...</td>\n",
       "      <td>479.5</td>\n",
       "      <td>0.68</td>\n",
       "      <td>-0.59</td>\n",
       "      <td>2.0</td>\n",
       "      <td>-36.0</td>\n",
       "      <td>-6.9</td>\n",
       "      <td>2.02</td>\n",
       "      <td>0.14</td>\n",
       "      <td>-0.23</td>\n",
       "      <td>0</td>\n",
       "    </tr>\n",
       "  </tbody>\n",
       "</table>\n",
       "<p>5 rows × 75 columns</p>\n",
       "</div>"
      ],
      "text/plain": [
       "      0      1     2     3     4       5     6     7     8     9  ...      65  \\\n",
       "0  52.0  32.69  0.30   2.5  20.0  1256.8 -0.89  0.33  11.0 -55.0  ...  1595.1   \n",
       "1  58.0  33.33  0.00  16.5   9.5   608.1  0.50  0.07  20.5 -52.5  ...   762.9   \n",
       "2  77.0  27.27 -0.91   6.0  58.5  1623.6 -1.40  0.02  -6.5 -48.0  ...  1491.8   \n",
       "3  41.0  27.91 -0.35   3.0  46.0  1921.6 -1.36 -0.47 -32.0 -51.5  ...  2047.7   \n",
       "4  50.0  28.00 -1.32  -9.0  12.0   464.8  0.88  0.19   8.0 -51.5  ...   479.5   \n",
       "\n",
       "     66    67   68    69     70    71    72    73  target  \n",
       "0 -1.64  2.83 -2.0 -50.0  445.2 -0.35  0.26  0.76       0  \n",
       "1  0.29  0.82 -3.0 -35.0  140.3  1.16  0.39  0.73       0  \n",
       "2  0.32 -1.29  0.0 -34.0  658.2 -0.76  0.26  0.24       0  \n",
       "3 -0.98  1.53  0.0 -49.0  554.2 -0.83  0.39  0.73       0  \n",
       "4  0.68 -0.59  2.0 -36.0   -6.9  2.02  0.14 -0.23       0  \n",
       "\n",
       "[5 rows x 75 columns]"
      ]
     },
     "execution_count": 6,
     "metadata": {},
     "output_type": "execute_result"
    }
   ],
   "source": [
    "# load data\n",
    "data = pd.read_csv('../kdd2004.csv')\n",
    "data['target'] = data['target'].replace({-1:0, 1:1})\n",
    "\n",
    "data.head()"
   ]
  },
  {
   "cell_type": "code",
   "execution_count": 7,
   "metadata": {},
   "outputs": [
    {
     "name": "stdout",
     "output_type": "stream",
     "text": [
      "Number of records: 145,751\n"
     ]
    },
    {
     "data": {
      "text/plain": [
       "0    0.991108\n",
       "1    0.008892\n",
       "Name: target, dtype: float64"
      ]
     },
     "execution_count": 7,
     "metadata": {},
     "output_type": "execute_result"
    }
   ],
   "source": [
    "# Test if dataset is imbalanced \n",
    "print(f\"Number of records: {data.shape[0]:,.0f}\")\n",
    "data['target'].value_counts(normalize=True, dropna=False)"
   ]
  },
  {
   "cell_type": "code",
   "execution_count": 8,
   "metadata": {},
   "outputs": [
    {
     "data": {
      "text/plain": [
       "((102025, 74), (43726, 74))"
      ]
     },
     "execution_count": 8,
     "metadata": {},
     "output_type": "execute_result"
    }
   ],
   "source": [
    "# separate dataset into train and test\n",
    "\n",
    "X_train, X_test, y_train, y_test = train_test_split(\n",
    "    data.drop(labels=['target'], axis=1),  # drop the target\n",
    "    data['target'],  # just the target\n",
    "    test_size=0.3,\n",
    "    stratify=data['target'],\n",
    "    random_state=0)\n",
    "\n",
    "X_train.shape, X_test.shape"
   ]
  },
  {
   "cell_type": "markdown",
   "metadata": {},
   "source": [
    "## XGBoost Classifier"
   ]
  },
  {
   "cell_type": "code",
   "execution_count": 9,
   "metadata": {},
   "outputs": [],
   "source": [
    "params = {\n",
    "    'n_estimators': 100,\n",
    "    'learning_rate': 0.1,\n",
    "    'max_depth': 6,\n",
    "    'scale_pos_weight': 10\n",
    "}\n",
    "xgb = XGBClassifier(**params, n_jobs=-1, random_state=42)\n",
    "\n",
    "xgb.fit(X_train, y_train)\n",
    "\n",
    "y_train_xgb = xgb.predict_proba(X_train)[:,1]\n",
    "y_test_xgb = xgb.predict_proba(X_test)[:,1]"
   ]
  },
  {
   "cell_type": "code",
   "execution_count": 10,
   "metadata": {},
   "outputs": [
    {
     "name": "stdout",
     "output_type": "stream",
     "text": [
      "Precision XGBoost test: 98.48%\n",
      "Precision XGBoost test: 92.26%\n"
     ]
    }
   ],
   "source": [
    "print(f\"Precision XGBoost test: {metrics.precision_score(y_train, xgb.predict(X_train)):0.2%}\") \n",
    "print(f\"Precision XGBoost test: {metrics.precision_score(y_test, xgb.predict(X_test)):0.2%}\") "
   ]
  },
  {
   "cell_type": "code",
   "execution_count": 9,
   "metadata": {},
   "outputs": [],
   "source": [
    "def objective(trial):\n",
    "\n",
    "    n_estimators = trial.suggest_int('n_estimators', 100, 500)\n",
    "    learning_rate = trial.suggest_float('learning_rate', 0.01, 0.11)\n",
    "    max_depth = trial.suggest_int('max_depth', 2, 10)\n",
    "    scale_pos_weight = trial.suggest_float('scale_pos_weight', 1, 30)\n",
    "\n",
    "    model = XGBClassifier(n_estimators=n_estimators,\n",
    "                          learning_rate=learning_rate,\n",
    "                          max_depth=max_depth,\n",
    "                          scale_pos_weight=scale_pos_weight,\n",
    "                          n_jobs=-1,\n",
    "                          random_state=42)\n",
    "\n",
    "    # Calculate F1 score using cross-validation\n",
    "    scores = cross_val_score(model, X_train, y_train, cv=5, scoring='f1')\n",
    "    f1_mean = scores.mean()  # Take the mean F1 score\n",
    "\n",
    "    return f1_mean"
   ]
  },
  {
   "cell_type": "code",
   "execution_count": 16,
   "metadata": {},
   "outputs": [
    {
     "data": {
      "text/plain": [
       "111"
      ]
     },
     "execution_count": 16,
     "metadata": {},
     "output_type": "execute_result"
    }
   ],
   "source": [
    "# weight will be used as a hyperparameter to offset the class imbalance\n",
    "weight = int(y_train[y_train==0].shape[0] / y_train[y_train==1].shape[0])\n",
    "weight"
   ]
  },
  {
   "cell_type": "code",
   "execution_count": 17,
   "metadata": {},
   "outputs": [],
   "source": [
    "\n",
    "def objective(trial):\n",
    "    params = {\n",
    "        'n_estimators' : trial.suggest_int('n_estimators', 100, 500),\n",
    "        'learning_rate' : trial.suggest_float('learning_rate', 0.01, 0.11),\n",
    "        'max_depth' : trial.suggest_int('max_depth', 2, 10),\n",
    "        'scale_pos_weight' : trial.suggest_float('scale_pos_weight', 1, weight)\n",
    "    }\n",
    "\n",
    "    model = XGBClassifier(**params,n_jobs=-1, random_state=42)\n",
    "\n",
    "    # Calculate F1 score using cross-validation\n",
    "    scores = cross_val_score(model, X_train, y_train, cv=5, scoring='f1')\n",
    "    f1_mean = scores.mean()  # Take the mean F1 score\n",
    "\n",
    "    return f1_mean"
   ]
  },
  {
   "cell_type": "code",
   "execution_count": 18,
   "metadata": {},
   "outputs": [
    {
     "name": "stderr",
     "output_type": "stream",
     "text": [
      "[I 2024-03-06 18:23:30,473] Using an existing study with name 'KDD_Cup_2004_5' instead of creating a new one.\n"
     ]
    },
    {
     "name": "stderr",
     "output_type": "stream",
     "text": [
      "[I 2024-03-06 18:23:47,245] Trial 204 finished with value: 0.8635816962074104 and parameters: {'n_estimators': 250, 'learning_rate': 0.10507143064099161, 'max_depth': 8, 'scale_pos_weight': 66.85243326167402}. Best is trial 13 with value: 0.8718970271163409.\n",
      "[I 2024-03-06 18:23:52,512] Trial 205 finished with value: 0.4073961519601294 and parameters: {'n_estimators': 162, 'learning_rate': 0.025599452033620268, 'max_depth': 2, 'scale_pos_weight': 96.27937603524288}. Best is trial 13 with value: 0.8718970271163409.\n",
      "[I 2024-03-06 18:24:02,978] Trial 206 finished with value: 0.5727092105310435 and parameters: {'n_estimators': 341, 'learning_rate': 0.08080725777960454, 'max_depth': 2, 'scale_pos_weight': 107.69008373781938}. Best is trial 13 with value: 0.8718970271163409.\n",
      "[I 2024-03-06 18:24:17,964] Trial 207 finished with value: 0.7787808963953322 and parameters: {'n_estimators': 433, 'learning_rate': 0.031233911067827615, 'max_depth': 3, 'scale_pos_weight': 21.17449608387772}. Best is trial 13 with value: 0.8718970271163409.\n",
      "[I 2024-03-06 18:24:31,211] Trial 208 finished with value: 0.8488424557810408 and parameters: {'n_estimators': 222, 'learning_rate': 0.062475643163223786, 'max_depth': 5, 'scale_pos_weight': 33.03520542178461}. Best is trial 13 with value: 0.8718970271163409.\n",
      "[I 2024-03-06 18:24:46,577] Trial 209 finished with value: 0.7285645039603427 and parameters: {'n_estimators': 345, 'learning_rate': 0.023949386065204185, 'max_depth': 4, 'scale_pos_weight': 41.299802762306086}. Best is trial 13 with value: 0.8718970271163409.\n",
      "[I 2024-03-06 18:24:57,306] Trial 210 finished with value: 0.7662647276304344 and parameters: {'n_estimators': 282, 'learning_rate': 0.08851759613930137, 'max_depth': 3, 'scale_pos_weight': 57.56578822549728}. Best is trial 13 with value: 0.8718970271163409.\n",
      "[I 2024-03-06 18:25:26,895] Trial 211 finished with value: 0.8343257656818045 and parameters: {'n_estimators': 337, 'learning_rate': 0.014645041271999773, 'max_depth': 7, 'scale_pos_weight': 19.75765360560207}. Best is trial 13 with value: 0.8718970271163409.\n",
      "[I 2024-03-06 18:25:42,062] Trial 212 finished with value: 0.854622872527451 and parameters: {'n_estimators': 126, 'learning_rate': 0.10488855372533333, 'max_depth': 10, 'scale_pos_weight': 89.92370829281073}. Best is trial 13 with value: 0.8718970271163409.\n",
      "[I 2024-03-06 18:26:06,644] Trial 213 finished with value: 0.8126166467739502 and parameters: {'n_estimators': 222, 'learning_rate': 0.01976721140063839, 'max_depth': 8, 'scale_pos_weight': 49.41677431135614}. Best is trial 13 with value: 0.8718970271163409.\n",
      "[I 2024-03-06 18:26:11,626] Trial 214 finished with value: 0.43179372588186027 and parameters: {'n_estimators': 148, 'learning_rate': 0.05951769101112702, 'max_depth': 2, 'scale_pos_weight': 101.02524422866603}. Best is trial 13 with value: 0.8718970271163409.\n",
      "[I 2024-03-06 18:26:21,168] Trial 215 finished with value: 0.7962018442419284 and parameters: {'n_estimators': 203, 'learning_rate': 0.0762522284353982, 'max_depth': 4, 'scale_pos_weight': 58.20748232955919}. Best is trial 13 with value: 0.8718970271163409.\n",
      "[I 2024-03-06 18:27:00,374] Trial 216 finished with value: 0.8559438970928174 and parameters: {'n_estimators': 319, 'learning_rate': 0.028485445552552703, 'max_depth': 10, 'scale_pos_weight': 86.2646105697226}. Best is trial 13 with value: 0.8718970271163409.\n",
      "[I 2024-03-06 18:27:28,775] Trial 217 finished with value: 0.859707364552839 and parameters: {'n_estimators': 476, 'learning_rate': 0.09948273504276488, 'max_depth': 7, 'scale_pos_weight': 102.40616585254286}. Best is trial 13 with value: 0.8718970271163409.\n",
      "[I 2024-03-06 18:27:33,358] Trial 218 finished with value: 0.6086956777345485 and parameters: {'n_estimators': 135, 'learning_rate': 0.029598286241914525, 'max_depth': 2, 'scale_pos_weight': 36.786336383959075}. Best is trial 13 with value: 0.8718970271163409.\n",
      "[I 2024-03-06 18:28:00,950] Trial 219 finished with value: 0.8535576566729723 and parameters: {'n_estimators': 255, 'learning_rate': 0.03713490317738959, 'max_depth': 9, 'scale_pos_weight': 40.24286593629482}. Best is trial 13 with value: 0.8718970271163409.\n",
      "[I 2024-03-06 18:28:08,943] Trial 220 finished with value: 0.6212393303651167 and parameters: {'n_estimators': 212, 'learning_rate': 0.06426960831582484, 'max_depth': 3, 'scale_pos_weight': 89.24166788294437}. Best is trial 13 with value: 0.8718970271163409.\n",
      "[I 2024-03-06 18:28:22,065] Trial 221 finished with value: 0.8601613474906546 and parameters: {'n_estimators': 129, 'learning_rate': 0.10868869366005172, 'max_depth': 8, 'scale_pos_weight': 22.858724968758963}. Best is trial 13 with value: 0.8718970271163409.\n",
      "[I 2024-03-06 18:28:33,663] Trial 222 finished with value: 0.8455694578833196 and parameters: {'n_estimators': 102, 'learning_rate': 0.09154614284548342, 'max_depth': 8, 'scale_pos_weight': 81.1907884845086}. Best is trial 13 with value: 0.8718970271163409.\n",
      "[I 2024-03-06 18:28:55,719] Trial 223 finished with value: 0.8342439905359702 and parameters: {'n_estimators': 409, 'learning_rate': 0.017404465173409038, 'max_depth': 5, 'scale_pos_weight': 13.745596547764269}. Best is trial 13 with value: 0.8718970271163409.\n",
      "[I 2024-03-06 18:29:15,536] Trial 224 finished with value: 0.867750065517159 and parameters: {'n_estimators': 446, 'learning_rate': 0.07232981268275579, 'max_depth': 4, 'scale_pos_weight': 7.9914185314626}. Best is trial 13 with value: 0.8718970271163409.\n",
      "[I 2024-03-06 18:29:34,328] Trial 225 finished with value: 0.852669732179751 and parameters: {'n_estimators': 224, 'learning_rate': 0.04251833220267471, 'max_depth': 8, 'scale_pos_weight': 71.13132184907344}. Best is trial 13 with value: 0.8718970271163409.\n",
      "[I 2024-03-06 18:29:46,942] Trial 226 finished with value: 0.7441883922439587 and parameters: {'n_estimators': 455, 'learning_rate': 0.05722149251619493, 'max_depth': 3, 'scale_pos_weight': 79.45692659452945}. Best is trial 13 with value: 0.8718970271163409.\n",
      "[I 2024-03-06 18:30:11,196] Trial 227 finished with value: 0.8678363451845789 and parameters: {'n_estimators': 405, 'learning_rate': 0.06612771975694963, 'max_depth': 8, 'scale_pos_weight': 55.317515600082984}. Best is trial 13 with value: 0.8718970271163409.\n",
      "[I 2024-03-06 18:30:18,345] Trial 228 finished with value: 0.7749173894346562 and parameters: {'n_estimators': 309, 'learning_rate': 0.052754101835854966, 'max_depth': 2, 'scale_pos_weight': 12.86805696926349}. Best is trial 13 with value: 0.8718970271163409.\n",
      "[I 2024-03-06 18:30:23,338] Trial 229 finished with value: 0.6876368924330283 and parameters: {'n_estimators': 112, 'learning_rate': 0.07364104112637804, 'max_depth': 4, 'scale_pos_weight': 56.94277602811731}. Best is trial 13 with value: 0.8718970271163409.\n",
      "[I 2024-03-06 18:30:42,968] Trial 230 finished with value: 0.8373311511922038 and parameters: {'n_estimators': 463, 'learning_rate': 0.034929222914887495, 'max_depth': 5, 'scale_pos_weight': 84.11062523973536}. Best is trial 13 with value: 0.8718970271163409.\n",
      "[I 2024-03-06 18:30:49,929] Trial 231 finished with value: 0.7654690639498041 and parameters: {'n_estimators': 191, 'learning_rate': 0.0176979909828793, 'max_depth': 4, 'scale_pos_weight': 18.734341597940485}. Best is trial 13 with value: 0.8718970271163409.\n",
      "[I 2024-03-06 18:31:13,155] Trial 232 finished with value: 0.8621001161323741 and parameters: {'n_estimators': 472, 'learning_rate': 0.0908120379564417, 'max_depth': 7, 'scale_pos_weight': 96.86066492064894}. Best is trial 13 with value: 0.8718970271163409.\n",
      "[I 2024-03-06 18:31:49,777] Trial 233 finished with value: 0.8585797744103623 and parameters: {'n_estimators': 422, 'learning_rate': 0.028657005888603586, 'max_depth': 10, 'scale_pos_weight': 60.32764661072158}. Best is trial 13 with value: 0.8718970271163409.\n",
      "[I 2024-03-06 18:32:04,661] Trial 234 finished with value: 0.8653061224489796 and parameters: {'n_estimators': 423, 'learning_rate': 0.09960912999234932, 'max_depth': 4, 'scale_pos_weight': 13.105711698044443}. Best is trial 13 with value: 0.8718970271163409.\n",
      "[I 2024-03-06 18:32:22,234] Trial 235 finished with value: 0.8499423745377627 and parameters: {'n_estimators': 191, 'learning_rate': 0.05271077886262564, 'max_depth': 9, 'scale_pos_weight': 95.68036415819778}. Best is trial 13 with value: 0.8718970271163409.\n",
      "[I 2024-03-06 18:32:27,608] Trial 236 finished with value: 0.7976838038278515 and parameters: {'n_estimators': 102, 'learning_rate': 0.06107473025775658, 'max_depth': 5, 'scale_pos_weight': 25.431859151780326}. Best is trial 13 with value: 0.8718970271163409.\n",
      "[I 2024-03-06 18:32:43,681] Trial 237 finished with value: 0.8498980235083033 and parameters: {'n_estimators': 148, 'learning_rate': 0.0437615171403628, 'max_depth': 10, 'scale_pos_weight': 36.55232252228308}. Best is trial 13 with value: 0.8718970271163409.\n",
      "[I 2024-03-06 18:32:57,128] Trial 238 finished with value: 0.8569582752483408 and parameters: {'n_estimators': 308, 'learning_rate': 0.08030189588951778, 'max_depth': 5, 'scale_pos_weight': 107.89602909930568}. Best is trial 13 with value: 0.8718970271163409.\n",
      "[I 2024-03-06 18:33:22,334] Trial 239 finished with value: 0.8587406992556863 and parameters: {'n_estimators': 485, 'learning_rate': 0.03517822958253642, 'max_depth': 6, 'scale_pos_weight': 34.09661407984466}. Best is trial 13 with value: 0.8718970271163409.\n",
      "[I 2024-03-06 18:33:38,077] Trial 240 finished with value: 0.768270850681972 and parameters: {'n_estimators': 214, 'learning_rate': 0.01368869473545328, 'max_depth': 7, 'scale_pos_weight': 56.29469255517476}. Best is trial 13 with value: 0.8718970271163409.\n",
      "[I 2024-03-06 18:33:52,087] Trial 241 finished with value: 0.8430114476797301 and parameters: {'n_estimators': 120, 'learning_rate': 0.03786464642366114, 'max_depth': 10, 'scale_pos_weight': 27.351807973366967}. Best is trial 13 with value: 0.8718970271163409.\n",
      "[I 2024-03-06 18:34:07,532] Trial 242 finished with value: 0.8518888900939613 and parameters: {'n_estimators': 158, 'learning_rate': 0.05894527602775631, 'max_depth': 10, 'scale_pos_weight': 27.626079866265044}. Best is trial 13 with value: 0.8718970271163409.\n",
      "[I 2024-03-06 18:34:20,723] Trial 243 finished with value: 0.8534790949732256 and parameters: {'n_estimators': 369, 'learning_rate': 0.08616196153287176, 'max_depth': 4, 'scale_pos_weight': 81.10379834730455}. Best is trial 13 with value: 0.8718970271163409.\n",
      "[I 2024-03-06 18:34:36,342] Trial 244 finished with value: 0.8600741352535642 and parameters: {'n_estimators': 247, 'learning_rate': 0.07323058305935795, 'max_depth': 7, 'scale_pos_weight': 59.935215248223436}. Best is trial 13 with value: 0.8718970271163409.\n",
      "[I 2024-03-06 18:34:41,771] Trial 245 finished with value: 0.8224668682617315 and parameters: {'n_estimators': 136, 'learning_rate': 0.09353024955892379, 'max_depth': 4, 'scale_pos_weight': 21.517036143983965}. Best is trial 13 with value: 0.8718970271163409.\n",
      "[I 2024-03-06 18:34:51,131] Trial 246 finished with value: 0.8522101670215687 and parameters: {'n_estimators': 116, 'learning_rate': 0.06908929431882418, 'max_depth': 8, 'scale_pos_weight': 2.824661182064177}. Best is trial 13 with value: 0.8718970271163409.\n",
      "[I 2024-03-06 18:35:11,318] Trial 247 finished with value: 0.8544590137324122 and parameters: {'n_estimators': 305, 'learning_rate': 0.0326495775197938, 'max_depth': 7, 'scale_pos_weight': 20.18030719054906}. Best is trial 13 with value: 0.8718970271163409.\n",
      "[I 2024-03-06 18:35:38,545] Trial 248 finished with value: 0.8630225528821956 and parameters: {'n_estimators': 377, 'learning_rate': 0.04867353463005374, 'max_depth': 10, 'scale_pos_weight': 16.127303856059257}. Best is trial 13 with value: 0.8718970271163409.\n",
      "[I 2024-03-06 18:36:05,442] Trial 249 finished with value: 0.828874777894986 and parameters: {'n_estimators': 236, 'learning_rate': 0.02134735212405891, 'max_depth': 10, 'scale_pos_weight': 97.50732887190792}. Best is trial 13 with value: 0.8718970271163409.\n",
      "[I 2024-03-06 18:36:21,632] Trial 250 finished with value: 0.8620611114170516 and parameters: {'n_estimators': 203, 'learning_rate': 0.0759984046034179, 'max_depth': 9, 'scale_pos_weight': 62.072089275940854}. Best is trial 13 with value: 0.8718970271163409.\n",
      "[I 2024-03-06 18:36:29,141] Trial 251 finished with value: 0.4537160209612626 and parameters: {'n_estimators': 312, 'learning_rate': 0.03418522909004517, 'max_depth': 2, 'scale_pos_weight': 99.69373337486594}. Best is trial 13 with value: 0.8718970271163409.\n",
      "[I 2024-03-06 18:36:48,296] Trial 252 finished with value: 0.8665804587321654 and parameters: {'n_estimators': 461, 'learning_rate': 0.07331014572732679, 'max_depth': 5, 'scale_pos_weight': 39.4130532073927}. Best is trial 13 with value: 0.8718970271163409.\n",
      "[I 2024-03-06 18:37:10,021] Trial 253 finished with value: 0.864950476522844 and parameters: {'n_estimators': 391, 'learning_rate': 0.0997110259952577, 'max_depth': 9, 'scale_pos_weight': 86.78631004433862}. Best is trial 13 with value: 0.8718970271163409.\n",
      "[I 2024-03-06 18:37:20,246] Trial 254 finished with value: 0.4905432572720641 and parameters: {'n_estimators': 357, 'learning_rate': 0.018413996499504884, 'max_depth': 3, 'scale_pos_weight': 99.84096073797872}. Best is trial 13 with value: 0.8718970271163409.\n",
      "[I 2024-03-06 18:37:28,282] Trial 255 finished with value: 0.4672057205020154 and parameters: {'n_estimators': 343, 'learning_rate': 0.010919705161662964, 'max_depth': 2, 'scale_pos_weight': 73.98519460188614}. Best is trial 13 with value: 0.8718970271163409.\n",
      "[I 2024-03-06 18:37:34,807] Trial 256 finished with value: 0.6856684758222362 and parameters: {'n_estimators': 102, 'learning_rate': 0.026080805141749867, 'max_depth': 6, 'scale_pos_weight': 77.10847174619626}. Best is trial 13 with value: 0.8718970271163409.\n",
      "[I 2024-03-06 18:38:01,423] Trial 257 finished with value: 0.8606220123508095 and parameters: {'n_estimators': 361, 'learning_rate': 0.03242693094605598, 'max_depth': 8, 'scale_pos_weight': 27.09739962464801}. Best is trial 13 with value: 0.8718970271163409.\n",
      "[I 2024-03-06 18:38:15,951] Trial 258 finished with value: 0.8604784755016042 and parameters: {'n_estimators': 230, 'learning_rate': 0.08464914051180242, 'max_depth': 7, 'scale_pos_weight': 94.41457515435957}. Best is trial 13 with value: 0.8718970271163409.\n",
      "[I 2024-03-06 18:38:24,167] Trial 259 finished with value: 0.6751135826657844 and parameters: {'n_estimators': 363, 'learning_rate': 0.06683086033354717, 'max_depth': 2, 'scale_pos_weight': 41.44873833653769}. Best is trial 13 with value: 0.8718970271163409.\n",
      "[I 2024-03-06 18:38:45,566] Trial 260 finished with value: 0.8523048470713824 and parameters: {'n_estimators': 206, 'learning_rate': 0.03439896433790836, 'max_depth': 10, 'scale_pos_weight': 44.24074971334365}. Best is trial 13 with value: 0.8718970271163409.\n",
      "[I 2024-03-06 18:39:11,848] Trial 261 finished with value: 0.8650525350576341 and parameters: {'n_estimators': 457, 'learning_rate': 0.07311386259972628, 'max_depth': 9, 'scale_pos_weight': 56.29008024157113}. Best is trial 13 with value: 0.8718970271163409.\n",
      "[I 2024-03-06 18:39:21,422] Trial 262 finished with value: 0.6970784571113406 and parameters: {'n_estimators': 331, 'learning_rate': 0.05925176938188639, 'max_depth': 3, 'scale_pos_weight': 80.46973267876558}. Best is trial 13 with value: 0.8718970271163409.\n",
      "[I 2024-03-06 18:39:36,890] Trial 263 finished with value: 0.8265186294158287 and parameters: {'n_estimators': 212, 'learning_rate': 0.012431596643145384, 'max_depth': 7, 'scale_pos_weight': 20.482174734775384}. Best is trial 13 with value: 0.8718970271163409.\n",
      "[I 2024-03-06 18:40:00,412] Trial 264 finished with value: 0.8692215307692196 and parameters: {'n_estimators': 477, 'learning_rate': 0.10539285770025873, 'max_depth': 10, 'scale_pos_weight': 41.717457028098885}. Best is trial 13 with value: 0.8718970271163409.\n",
      "[I 2024-03-06 18:40:05,925] Trial 265 finished with value: 0.7868734041641624 and parameters: {'n_estimators': 106, 'learning_rate': 0.10283185625877254, 'max_depth': 5, 'scale_pos_weight': 107.33203009480366}. Best is trial 13 with value: 0.8718970271163409.\n",
      "[I 2024-03-06 18:40:23,086] Trial 266 finished with value: 0.8659515489981369 and parameters: {'n_estimators': 486, 'learning_rate': 0.095300945546736, 'max_depth': 4, 'scale_pos_weight': 43.36075014621178}. Best is trial 13 with value: 0.8718970271163409.\n",
      "[I 2024-03-06 18:40:34,804] Trial 267 finished with value: 0.701702891365499 and parameters: {'n_estimators': 441, 'learning_rate': 0.04169220051562777, 'max_depth': 3, 'scale_pos_weight': 62.248138870418515}. Best is trial 13 with value: 0.8718970271163409.\n",
      "[I 2024-03-06 18:40:57,994] Trial 268 finished with value: 0.8662776061629242 and parameters: {'n_estimators': 475, 'learning_rate': 0.0796029796674973, 'max_depth': 7, 'scale_pos_weight': 11.689414314784539}. Best is trial 13 with value: 0.8718970271163409.\n",
      "[I 2024-03-06 18:41:07,847] Trial 269 finished with value: 0.8145247777664986 and parameters: {'n_estimators': 346, 'learning_rate': 0.10900538501042632, 'max_depth': 3, 'scale_pos_weight': 58.01626176001104}. Best is trial 13 with value: 0.8718970271163409.\n",
      "[I 2024-03-06 18:41:32,068] Trial 270 finished with value: 0.862238844730008 and parameters: {'n_estimators': 451, 'learning_rate': 0.08407686177542044, 'max_depth': 8, 'scale_pos_weight': 78.27324923858203}. Best is trial 13 with value: 0.8718970271163409.\n",
      "[I 2024-03-06 18:41:54,196] Trial 271 finished with value: 0.8516498940517174 and parameters: {'n_estimators': 244, 'learning_rate': 0.03935918442644934, 'max_depth': 9, 'scale_pos_weight': 90.11247341470988}. Best is trial 13 with value: 0.8718970271163409.\n",
      "[I 2024-03-06 18:42:14,656] Trial 272 finished with value: 0.865612657022262 and parameters: {'n_estimators': 447, 'learning_rate': 0.10132405525564712, 'max_depth': 6, 'scale_pos_weight': 56.16679241559196}. Best is trial 13 with value: 0.8718970271163409.\n",
      "[I 2024-03-06 18:42:38,595] Trial 273 finished with value: 0.8644404950370953 and parameters: {'n_estimators': 420, 'learning_rate': 0.07499639307777652, 'max_depth': 8, 'scale_pos_weight': 88.53719363797111}. Best is trial 13 with value: 0.8718970271163409.\n",
      "[I 2024-03-06 18:42:57,371] Trial 274 finished with value: 0.8627361402813467 and parameters: {'n_estimators': 456, 'learning_rate': 0.043799515685153584, 'max_depth': 5, 'scale_pos_weight': 11.338013382495589}. Best is trial 13 with value: 0.8718970271163409.\n",
      "[I 2024-03-06 18:43:15,638] Trial 275 finished with value: 0.7506128805829784 and parameters: {'n_estimators': 331, 'learning_rate': 0.01359422737967421, 'max_depth': 6, 'scale_pos_weight': 60.69090981783343}. Best is trial 13 with value: 0.8718970271163409.\n",
      "[I 2024-03-06 18:43:21,108] Trial 276 finished with value: 0.8220384803485361 and parameters: {'n_estimators': 214, 'learning_rate': 0.06908332605690108, 'max_depth': 2, 'scale_pos_weight': 5.108300762413586}. Best is trial 13 with value: 0.8718970271163409.\n",
      "[I 2024-03-06 18:43:32,749] Trial 277 finished with value: 0.7168482959092939 and parameters: {'n_estimators': 429, 'learning_rate': 0.04601906414112629, 'max_depth': 3, 'scale_pos_weight': 58.44675860602848}. Best is trial 13 with value: 0.8718970271163409.\n",
      "[I 2024-03-06 18:43:57,637] Trial 278 finished with value: 0.8635009219099288 and parameters: {'n_estimators': 408, 'learning_rate': 0.03158210274968432, 'max_depth': 7, 'scale_pos_weight': 10.388221149314479}. Best is trial 13 with value: 0.8718970271163409.\n",
      "[I 2024-03-06 18:44:05,034] Trial 279 finished with value: 0.8051365815619601 and parameters: {'n_estimators': 120, 'learning_rate': 0.0631354631568148, 'max_depth': 6, 'scale_pos_weight': 71.11728916480273}. Best is trial 13 with value: 0.8718970271163409.\n",
      "[I 2024-03-06 18:44:23,307] Trial 280 finished with value: 0.8710028951597752 and parameters: {'n_estimators': 391, 'learning_rate': 0.10758520794625347, 'max_depth': 6, 'scale_pos_weight': 36.52521202353706}. Best is trial 13 with value: 0.8718970271163409.\n",
      "[I 2024-03-06 18:44:40,671] Trial 281 finished with value: 0.8596693432646948 and parameters: {'n_estimators': 418, 'learning_rate': 0.037083225126207424, 'max_depth': 5, 'scale_pos_weight': 9.630201947649255}. Best is trial 13 with value: 0.8718970271163409.\n",
      "[I 2024-03-06 18:44:50,854] Trial 282 finished with value: 0.8595369538143762 and parameters: {'n_estimators': 110, 'learning_rate': 0.10626484146779251, 'max_depth': 9, 'scale_pos_weight': 77.55716267030678}. Best is trial 13 with value: 0.8718970271163409.\n",
      "[I 2024-03-06 18:44:58,648] Trial 283 finished with value: 0.6950536084382652 and parameters: {'n_estimators': 263, 'learning_rate': 0.027329432007084577, 'max_depth': 3, 'scale_pos_weight': 28.526718798105485}. Best is trial 13 with value: 0.8718970271163409.\n",
      "[I 2024-03-06 18:45:16,602] Trial 284 finished with value: 0.867609463960787 and parameters: {'n_estimators': 320, 'learning_rate': 0.08145959227000624, 'max_depth': 7, 'scale_pos_weight': 31.792728664053712}. Best is trial 13 with value: 0.8718970271163409.\n",
      "[I 2024-03-06 18:45:39,196] Trial 285 finished with value: 0.8651762957973391 and parameters: {'n_estimators': 482, 'learning_rate': 0.08378969166957685, 'max_depth': 6, 'scale_pos_weight': 68.28928208577875}. Best is trial 13 with value: 0.8718970271163409.\n",
      "[I 2024-03-06 18:45:51,147] Trial 286 finished with value: 0.7660965171083634 and parameters: {'n_estimators': 268, 'learning_rate': 0.034773098950115745, 'max_depth': 5, 'scale_pos_weight': 84.3630721510806}. Best is trial 13 with value: 0.8718970271163409.\n",
      "[I 2024-03-06 18:45:54,160] Trial 287 finished with value: 0.7900558518408016 and parameters: {'n_estimators': 105, 'learning_rate': 0.021607264050691626, 'max_depth': 2, 'scale_pos_weight': 5.480168255086715}. Best is trial 13 with value: 0.8718970271163409.\n",
      "[I 2024-03-06 18:46:14,480] Trial 288 finished with value: 0.8655849389277106 and parameters: {'n_estimators': 443, 'learning_rate': 0.08036578593800237, 'max_depth': 6, 'scale_pos_weight': 11.761757671610162}. Best is trial 13 with value: 0.8718970271163409.\n",
      "[I 2024-03-06 18:46:23,092] Trial 289 finished with value: 0.7175104100666936 and parameters: {'n_estimators': 297, 'learning_rate': 0.057347177078056574, 'max_depth': 3, 'scale_pos_weight': 48.72368141617704}. Best is trial 13 with value: 0.8718970271163409.\n",
      "[I 2024-03-06 18:46:38,127] Trial 290 finished with value: 0.8651567575383636 and parameters: {'n_estimators': 259, 'learning_rate': 0.07158500980522164, 'max_depth': 7, 'scale_pos_weight': 5.983441074924897}. Best is trial 13 with value: 0.8718970271163409.\n",
      "[I 2024-03-06 18:46:51,948] Trial 291 finished with value: 0.8577023901304965 and parameters: {'n_estimators': 250, 'learning_rate': 0.07258599157142363, 'max_depth': 6, 'scale_pos_weight': 95.21388253071545}. Best is trial 13 with value: 0.8718970271163409.\n",
      "[I 2024-03-06 18:47:00,282] Trial 292 finished with value: 0.5003926112924124 and parameters: {'n_estimators': 364, 'learning_rate': 0.026293442708142968, 'max_depth': 2, 'scale_pos_weight': 71.66612060269472}. Best is trial 13 with value: 0.8718970271163409.\n",
      "[I 2024-03-06 18:47:12,442] Trial 293 finished with value: 0.8510523413202185 and parameters: {'n_estimators': 110, 'learning_rate': 0.06857755812734632, 'max_depth': 10, 'scale_pos_weight': 64.30215956634669}. Best is trial 13 with value: 0.8718970271163409.\n",
      "[I 2024-03-06 18:47:26,356] Trial 294 finished with value: 0.8637397563676634 and parameters: {'n_estimators': 255, 'learning_rate': 0.07432882184423531, 'max_depth': 6, 'scale_pos_weight': 61.017846824752844}. Best is trial 13 with value: 0.8718970271163409.\n",
      "[I 2024-03-06 18:47:59,357] Trial 295 finished with value: 0.8629744213337467 and parameters: {'n_estimators': 477, 'learning_rate': 0.04861026378007743, 'max_depth': 10, 'scale_pos_weight': 100.58857061516701}. Best is trial 13 with value: 0.8718970271163409.\n",
      "[I 2024-03-06 18:48:03,670] Trial 296 finished with value: 0.7986997183978828 and parameters: {'n_estimators': 178, 'learning_rate': 0.016936130087516547, 'max_depth': 2, 'scale_pos_weight': 3.00440082167047}. Best is trial 13 with value: 0.8718970271163409.\n",
      "[I 2024-03-06 18:48:07,665] Trial 297 finished with value: 0.62254236087921 and parameters: {'n_estimators': 137, 'learning_rate': 0.07830067734163568, 'max_depth': 2, 'scale_pos_weight': 36.08731933231374}. Best is trial 13 with value: 0.8718970271163409.\n",
      "[I 2024-03-06 18:48:49,497] Trial 298 finished with value: 0.8403036947424061 and parameters: {'n_estimators': 438, 'learning_rate': 0.012327193573582588, 'max_depth': 9, 'scale_pos_weight': 32.00402522507399}. Best is trial 13 with value: 0.8718970271163409.\n",
      "[I 2024-03-06 18:49:00,003] Trial 299 finished with value: 0.8449149531069373 and parameters: {'n_estimators': 147, 'learning_rate': 0.07967371653641506, 'max_depth': 7, 'scale_pos_weight': 97.52192148797583}. Best is trial 13 with value: 0.8718970271163409.\n",
      "[I 2024-03-06 18:49:13,916] Trial 300 finished with value: 0.8642488342532134 and parameters: {'n_estimators': 394, 'learning_rate': 0.09034809303848486, 'max_depth': 4, 'scale_pos_weight': 20.51834981576951}. Best is trial 13 with value: 0.8718970271163409.\n",
      "[I 2024-03-06 18:49:36,873] Trial 301 finished with value: 0.8688780010375827 and parameters: {'n_estimators': 400, 'learning_rate': 0.0906834739267264, 'max_depth': 10, 'scale_pos_weight': 46.38794446025691}. Best is trial 13 with value: 0.8718970271163409.\n",
      "[I 2024-03-06 18:49:48,022] Trial 302 finished with value: 0.8546609614511766 and parameters: {'n_estimators': 249, 'learning_rate': 0.08764129607419968, 'max_depth': 5, 'scale_pos_weight': 103.38330581639212}. Best is trial 13 with value: 0.8718970271163409.\n",
      "[I 2024-03-06 18:50:16,048] Trial 303 finished with value: 0.865274501735094 and parameters: {'n_estimators': 444, 'learning_rate': 0.05289940273750184, 'max_depth': 8, 'scale_pos_weight': 83.99971614931506}. Best is trial 13 with value: 0.8718970271163409.\n",
      "[I 2024-03-06 18:50:24,670] Trial 304 finished with value: 0.8499649961098126 and parameters: {'n_estimators': 141, 'learning_rate': 0.10025529066795667, 'max_depth': 6, 'scale_pos_weight': 91.91032127185157}. Best is trial 13 with value: 0.8718970271163409.\n",
      "[I 2024-03-06 18:50:34,615] Trial 305 finished with value: 0.8627462835977313 and parameters: {'n_estimators': 228, 'learning_rate': 0.09955232284962005, 'max_depth': 5, 'scale_pos_weight': 2.1921416628328196}. Best is trial 13 with value: 0.8718970271163409.\n",
      "[I 2024-03-06 18:50:51,039] Trial 306 finished with value: 0.6279663203418593 and parameters: {'n_estimators': 463, 'learning_rate': 0.019128667678613355, 'max_depth': 4, 'scale_pos_weight': 105.50681637558854}. Best is trial 13 with value: 0.8718970271163409.\n",
      "[I 2024-03-06 18:51:16,076] Trial 307 finished with value: 0.8682252112583997 and parameters: {'n_estimators': 481, 'learning_rate': 0.06734378881232861, 'max_depth': 7, 'scale_pos_weight': 50.32900741761517}. Best is trial 13 with value: 0.8718970271163409.\n",
      "[I 2024-03-06 18:51:33,861] Trial 308 finished with value: 0.8500388356933701 and parameters: {'n_estimators': 217, 'learning_rate': 0.0428664545369916, 'max_depth': 8, 'scale_pos_weight': 83.7611982381448}. Best is trial 13 with value: 0.8718970271163409.\n",
      "[I 2024-03-06 18:51:43,139] Trial 309 finished with value: 0.6910139416318283 and parameters: {'n_estimators': 417, 'learning_rate': 0.08896181427945539, 'max_depth': 2, 'scale_pos_weight': 55.38623351728396}. Best is trial 13 with value: 0.8718970271163409.\n",
      "[I 2024-03-06 18:51:49,363] Trial 310 finished with value: 0.7284642432106014 and parameters: {'n_estimators': 123, 'learning_rate': 0.06495288823237355, 'max_depth': 5, 'scale_pos_weight': 98.64746010341297}. Best is trial 13 with value: 0.8718970271163409.\n",
      "[I 2024-03-06 18:51:56,578] Trial 311 finished with value: 0.4998605621746076 and parameters: {'n_estimators': 240, 'learning_rate': 0.02170670164276059, 'max_depth': 3, 'scale_pos_weight': 84.76616948892195}. Best is trial 13 with value: 0.8718970271163409.\n",
      "[I 2024-03-06 18:52:04,553] Trial 312 finished with value: 0.46360731948709766 and parameters: {'n_estimators': 347, 'learning_rate': 0.020112267612279026, 'max_depth': 2, 'scale_pos_weight': 78.10660446050319}. Best is trial 13 with value: 0.8718970271163409.\n",
      "[I 2024-03-06 18:52:14,678] Trial 313 finished with value: 0.8618995841036947 and parameters: {'n_estimators': 129, 'learning_rate': 0.09218600592903563, 'max_depth': 8, 'scale_pos_weight': 9.948365870608974}. Best is trial 13 with value: 0.8718970271163409.\n",
      "[I 2024-03-06 18:52:21,281] Trial 314 finished with value: 0.8478727113314056 and parameters: {'n_estimators': 134, 'learning_rate': 0.10866395785011755, 'max_depth': 5, 'scale_pos_weight': 41.770636177358}. Best is trial 13 with value: 0.8718970271163409.\n",
      "[I 2024-03-06 18:52:44,133] Trial 315 finished with value: 0.8647373909821287 and parameters: {'n_estimators': 425, 'learning_rate': 0.10472485773838587, 'max_depth': 10, 'scale_pos_weight': 83.87160037848358}. Best is trial 13 with value: 0.8718970271163409.\n",
      "[I 2024-03-06 18:53:06,039] Trial 316 finished with value: 0.8057088488090443 and parameters: {'n_estimators': 250, 'learning_rate': 0.018350071669866876, 'max_depth': 8, 'scale_pos_weight': 62.42446747093855}. Best is trial 13 with value: 0.8718970271163409.\n",
      "[I 2024-03-06 18:53:13,904] Trial 317 finished with value: 0.7776892604220025 and parameters: {'n_estimators': 270, 'learning_rate': 0.1006354385094736, 'max_depth': 3, 'scale_pos_weight': 55.1887614719945}. Best is trial 13 with value: 0.8718970271163409.\n",
      "[I 2024-03-06 18:53:17,236] Trial 318 finished with value: 0.7426809181666431 and parameters: {'n_estimators': 104, 'learning_rate': 0.05686606419941263, 'max_depth': 2, 'scale_pos_weight': 14.069970789487911}. Best is trial 13 with value: 0.8718970271163409.\n",
      "[I 2024-03-06 18:53:29,420] Trial 319 finished with value: 0.854209686013288 and parameters: {'n_estimators': 147, 'learning_rate': 0.07492103021160636, 'max_depth': 8, 'scale_pos_weight': 65.17056416068756}. Best is trial 13 with value: 0.8718970271163409.\n",
      "[I 2024-03-06 18:53:45,701] Trial 320 finished with value: 0.8158017283876671 and parameters: {'n_estimators': 485, 'learning_rate': 0.04748705795237041, 'max_depth': 4, 'scale_pos_weight': 96.54590410084063}. Best is trial 13 with value: 0.8718970271163409.\n",
      "[I 2024-03-06 18:53:50,521] Trial 321 finished with value: 0.5215694338936184 and parameters: {'n_estimators': 189, 'learning_rate': 0.10632225394406113, 'max_depth': 2, 'scale_pos_weight': 107.68667093784029}. Best is trial 13 with value: 0.8718970271163409.\n",
      "[I 2024-03-06 18:53:57,767] Trial 322 finished with value: 0.8390915078627709 and parameters: {'n_estimators': 117, 'learning_rate': 0.09911431136980711, 'max_depth': 6, 'scale_pos_weight': 110.22612757312304}. Best is trial 13 with value: 0.8718970271163409.\n",
      "[I 2024-03-06 18:54:11,288] Trial 323 finished with value: 0.8560919300592682 and parameters: {'n_estimators': 129, 'learning_rate': 0.06538542844013208, 'max_depth': 10, 'scale_pos_weight': 58.54076285871637}. Best is trial 13 with value: 0.8718970271163409.\n",
      "[I 2024-03-06 18:54:29,241] Trial 324 finished with value: 0.8664788438246308 and parameters: {'n_estimators': 352, 'learning_rate': 0.07957486889846171, 'max_depth': 6, 'scale_pos_weight': 70.03138880924698}. Best is trial 13 with value: 0.8718970271163409.\n",
      "[I 2024-03-06 18:54:36,723] Trial 325 finished with value: 0.7393657718921084 and parameters: {'n_estimators': 334, 'learning_rate': 0.1001158010490989, 'max_depth': 2, 'scale_pos_weight': 31.905950855145335}. Best is trial 13 with value: 0.8718970271163409.\n",
      "[I 2024-03-06 18:54:58,502] Trial 326 finished with value: 0.8670492880112677 and parameters: {'n_estimators': 481, 'learning_rate': 0.09902637838909163, 'max_depth': 6, 'scale_pos_weight': 69.21458575816904}. Best is trial 13 with value: 0.8718970271163409.\n",
      "[I 2024-03-06 18:55:10,432] Trial 327 finished with value: 0.8057666144637349 and parameters: {'n_estimators': 211, 'learning_rate': 0.02881211597237613, 'max_depth': 6, 'scale_pos_weight': 39.86874508286581}. Best is trial 13 with value: 0.8718970271163409.\n",
      "[I 2024-03-06 18:55:47,656] Trial 328 finished with value: 0.8334487758171438 and parameters: {'n_estimators': 334, 'learning_rate': 0.017773463696498484, 'max_depth': 10, 'scale_pos_weight': 109.48318189275632}. Best is trial 13 with value: 0.8718970271163409.\n",
      "[I 2024-03-06 18:56:00,858] Trial 329 finished with value: 0.819846023350949 and parameters: {'n_estimators': 379, 'learning_rate': 0.06360963663441203, 'max_depth': 4, 'scale_pos_weight': 90.51745216776436}. Best is trial 13 with value: 0.8718970271163409.\n",
      "[I 2024-03-06 18:56:36,590] Trial 330 finished with value: 0.8534742235030419 and parameters: {'n_estimators': 374, 'learning_rate': 0.026261693934489128, 'max_depth': 10, 'scale_pos_weight': 91.47909672154859}. Best is trial 13 with value: 0.8718970271163409.\n",
      "[I 2024-03-06 18:57:00,318] Trial 331 finished with value: 0.8670445266599334 and parameters: {'n_estimators': 480, 'learning_rate': 0.08257195083883599, 'max_depth': 7, 'scale_pos_weight': 47.006733991968076}. Best is trial 13 with value: 0.8718970271163409.\n",
      "[I 2024-03-06 18:57:10,672] Trial 332 finished with value: 0.8532610000619656 and parameters: {'n_estimators': 474, 'learning_rate': 0.09660638895004084, 'max_depth': 2, 'scale_pos_weight': 3.9003671946977203}. Best is trial 13 with value: 0.8718970271163409.\n",
      "[I 2024-03-06 18:57:27,822] Trial 333 finished with value: 0.8647422291369511 and parameters: {'n_estimators': 250, 'learning_rate': 0.0910553330781833, 'max_depth': 10, 'scale_pos_weight': 17.5458580213881}. Best is trial 13 with value: 0.8718970271163409.\n",
      "[I 2024-03-06 18:57:54,852] Trial 334 finished with value: 0.8601412925902263 and parameters: {'n_estimators': 338, 'learning_rate': 0.04808908566310215, 'max_depth': 10, 'scale_pos_weight': 93.63308154492796}. Best is trial 13 with value: 0.8718970271163409.\n",
      "[I 2024-03-06 18:58:12,979] Trial 335 finished with value: 0.8668672422910142 and parameters: {'n_estimators': 436, 'learning_rate': 0.056869315979497036, 'max_depth': 5, 'scale_pos_weight': 31.074777912377687}. Best is trial 13 with value: 0.8718970271163409.\n",
      "[I 2024-03-06 18:58:24,442] Trial 336 finished with value: 0.8531015890222914 and parameters: {'n_estimators': 122, 'learning_rate': 0.09647223762550532, 'max_depth': 9, 'scale_pos_weight': 110.96894406147436}. Best is trial 13 with value: 0.8718970271163409.\n",
      "[I 2024-03-06 18:58:52,391] Trial 337 finished with value: 0.8617432709083743 and parameters: {'n_estimators': 499, 'learning_rate': 0.06554317056026275, 'max_depth': 8, 'scale_pos_weight': 104.92423028706708}. Best is trial 13 with value: 0.8718970271163409.\n",
      "[I 2024-03-06 18:59:14,890] Trial 338 finished with value: 0.86155691749574 and parameters: {'n_estimators': 440, 'learning_rate': 0.034734810174319765, 'max_depth': 6, 'scale_pos_weight': 15.207535666664448}. Best is trial 13 with value: 0.8718970271163409.\n",
      "[I 2024-03-06 18:59:32,003] Trial 339 finished with value: 0.8509644288013163 and parameters: {'n_estimators': 482, 'learning_rate': 0.070617463445088, 'max_depth': 4, 'scale_pos_weight': 74.88707528464424}. Best is trial 13 with value: 0.8718970271163409.\n",
      "[I 2024-03-06 18:59:41,636] Trial 340 finished with value: 0.6642754128973745 and parameters: {'n_estimators': 347, 'learning_rate': 0.045816271803284056, 'max_depth': 3, 'scale_pos_weight': 74.87305151520796}. Best is trial 13 with value: 0.8718970271163409.\n",
      "[I 2024-03-06 18:59:57,395] Trial 341 finished with value: 0.8599038007999349 and parameters: {'n_estimators': 308, 'learning_rate': 0.08723183917356393, 'max_depth': 6, 'scale_pos_weight': 94.73996503503942}. Best is trial 13 with value: 0.8718970271163409.\n",
      "[I 2024-03-06 19:00:19,378] Trial 342 finished with value: 0.8624492357834306 and parameters: {'n_estimators': 321, 'learning_rate': 0.06609379715353862, 'max_depth': 9, 'scale_pos_weight': 45.38311528336367}. Best is trial 13 with value: 0.8718970271163409.\n",
      "[I 2024-03-06 19:00:33,284] Trial 343 finished with value: 0.7487452047690969 and parameters: {'n_estimators': 153, 'learning_rate': 0.012878267631333897, 'max_depth': 8, 'scale_pos_weight': 69.23405064888111}. Best is trial 13 with value: 0.8718970271163409.\n",
      "[I 2024-03-06 19:00:44,177] Trial 344 finished with value: 0.843296529723802 and parameters: {'n_estimators': 382, 'learning_rate': 0.03129641615089108, 'max_depth': 3, 'scale_pos_weight': 2.599913223467012}. Best is trial 13 with value: 0.8718970271163409.\n",
      "[I 2024-03-06 19:00:54,794] Trial 345 finished with value: 0.8503605579004562 and parameters: {'n_estimators': 240, 'learning_rate': 0.0689917686854633, 'max_depth': 5, 'scale_pos_weight': 49.122241422610195}. Best is trial 13 with value: 0.8718970271163409.\n",
      "[I 2024-03-06 19:01:18,195] Trial 346 finished with value: 0.8620493519977289 and parameters: {'n_estimators': 462, 'learning_rate': 0.044825546702330035, 'max_depth': 6, 'scale_pos_weight': 87.20183140152574}. Best is trial 13 with value: 0.8718970271163409.\n",
      "[I 2024-03-06 19:01:37,713] Trial 347 finished with value: 0.86021931867339 and parameters: {'n_estimators': 259, 'learning_rate': 0.07220867002278734, 'max_depth': 9, 'scale_pos_weight': 105.44726860234063}. Best is trial 13 with value: 0.8718970271163409.\n",
      "[I 2024-03-06 19:01:46,672] Trial 348 finished with value: 0.8563687787624191 and parameters: {'n_estimators': 158, 'learning_rate': 0.10265876251614944, 'max_depth': 6, 'scale_pos_weight': 29.40688271288542}. Best is trial 13 with value: 0.8718970271163409.\n",
      "[I 2024-03-06 19:02:00,843] Trial 349 finished with value: 0.869034030514635 and parameters: {'n_estimators': 284, 'learning_rate': 0.10800325752854771, 'max_depth': 6, 'scale_pos_weight': 37.162677131625905}. Best is trial 13 with value: 0.8718970271163409.\n",
      "[I 2024-03-06 19:02:08,955] Trial 350 finished with value: 0.7480467311921345 and parameters: {'n_estimators': 353, 'learning_rate': 0.03401456187781931, 'max_depth': 2, 'scale_pos_weight': 15.176769410171415}. Best is trial 13 with value: 0.8718970271163409.\n",
      "[I 2024-03-06 19:02:13,990] Trial 351 finished with value: 0.5177122572155518 and parameters: {'n_estimators': 151, 'learning_rate': 0.025190269351229436, 'max_depth': 3, 'scale_pos_weight': 71.4962219283536}. Best is trial 13 with value: 0.8718970271163409.\n",
      "[I 2024-03-06 19:02:32,018] Trial 352 finished with value: 0.850613012158622 and parameters: {'n_estimators': 172, 'learning_rate': 0.04456672833238633, 'max_depth': 10, 'scale_pos_weight': 53.13578042891596}. Best is trial 13 with value: 0.8718970271163409.\n",
      "[I 2024-03-06 19:02:42,335] Trial 353 finished with value: 0.8295454186787866 and parameters: {'n_estimators': 367, 'learning_rate': 0.027231987120162983, 'max_depth': 3, 'scale_pos_weight': 5.495547789312675}. Best is trial 13 with value: 0.8718970271163409.\n",
      "[I 2024-03-06 19:02:47,904] Trial 354 finished with value: 0.7906931102410023 and parameters: {'n_estimators': 167, 'learning_rate': 0.037859033903195866, 'max_depth': 3, 'scale_pos_weight': 10.757278713276117}. Best is trial 13 with value: 0.8718970271163409.\n",
      "[I 2024-03-06 19:02:52,867] Trial 355 finished with value: 0.6486551886939524 and parameters: {'n_estimators': 148, 'learning_rate': 0.05607787680327258, 'max_depth': 3, 'scale_pos_weight': 41.069684715288304}. Best is trial 13 with value: 0.8718970271163409.\n",
      "[I 2024-03-06 19:02:59,815] Trial 356 finished with value: 0.5740652757049809 and parameters: {'n_estimators': 301, 'learning_rate': 0.07903948286293652, 'max_depth': 2, 'scale_pos_weight': 88.93514387999468}. Best is trial 13 with value: 0.8718970271163409.\n",
      "[I 2024-03-06 19:03:33,748] Trial 357 finished with value: 0.830832489308006 and parameters: {'n_estimators': 351, 'learning_rate': 0.01817590319488719, 'max_depth': 9, 'scale_pos_weight': 102.29596405849945}. Best is trial 13 with value: 0.8718970271163409.\n",
      "[I 2024-03-06 19:03:47,147] Trial 358 finished with value: 0.8237172825080421 and parameters: {'n_estimators': 124, 'learning_rate': 0.03768776481472037, 'max_depth': 9, 'scale_pos_weight': 83.30856594220242}. Best is trial 13 with value: 0.8718970271163409.\n",
      "[I 2024-03-06 19:03:55,316] Trial 359 finished with value: 0.7172260846676543 and parameters: {'n_estimators': 173, 'learning_rate': 0.030934932333671034, 'max_depth': 5, 'scale_pos_weight': 54.29752837101235}. Best is trial 13 with value: 0.8718970271163409.\n",
      "[I 2024-03-06 19:04:13,697] Trial 360 finished with value: 0.8536196877724569 and parameters: {'n_estimators': 347, 'learning_rate': 0.046891363956977246, 'max_depth': 6, 'scale_pos_weight': 83.22180319471322}. Best is trial 13 with value: 0.8718970271163409.\n",
      "[I 2024-03-06 19:04:25,069] Trial 361 finished with value: 0.7843056887540197 and parameters: {'n_estimators': 114, 'learning_rate': 0.035243694434402076, 'max_depth': 8, 'scale_pos_weight': 99.47275214559193}. Best is trial 13 with value: 0.8718970271163409.\n",
      "[I 2024-03-06 19:04:31,995] Trial 362 finished with value: 0.6167999632689309 and parameters: {'n_estimators': 305, 'learning_rate': 0.06321134852653157, 'max_depth': 2, 'scale_pos_weight': 50.21536035058001}. Best is trial 13 with value: 0.8718970271163409.\n",
      "[I 2024-03-06 19:04:42,865] Trial 363 finished with value: 0.7654527699658968 and parameters: {'n_estimators': 313, 'learning_rate': 0.03424705036347297, 'max_depth': 4, 'scale_pos_weight': 42.50125794150849}. Best is trial 13 with value: 0.8718970271163409.\n",
      "[I 2024-03-06 19:04:46,860] Trial 364 finished with value: 0.6379625988381815 and parameters: {'n_estimators': 108, 'learning_rate': 0.042207916558317835, 'max_depth': 3, 'scale_pos_weight': 37.02470873957061}. Best is trial 13 with value: 0.8718970271163409.\n",
      "[I 2024-03-06 19:04:57,159] Trial 365 finished with value: 0.8597617737298873 and parameters: {'n_estimators': 148, 'learning_rate': 0.0990527280739895, 'max_depth': 7, 'scale_pos_weight': 75.70125510589385}. Best is trial 13 with value: 0.8718970271163409.\n",
      "[I 2024-03-06 19:05:06,105] Trial 366 finished with value: 0.6254978054870064 and parameters: {'n_estimators': 416, 'learning_rate': 0.05984421989290573, 'max_depth': 2, 'scale_pos_weight': 60.08171960004026}. Best is trial 13 with value: 0.8718970271163409.\n",
      "[I 2024-03-06 19:05:20,116] Trial 367 finished with value: 0.8660627065325064 and parameters: {'n_estimators': 335, 'learning_rate': 0.08454394741843299, 'max_depth': 5, 'scale_pos_weight': 15.033833307512014}. Best is trial 13 with value: 0.8718970271163409.\n",
      "[I 2024-03-06 19:05:34,845] Trial 368 finished with value: 0.8476599087489463 and parameters: {'n_estimators': 213, 'learning_rate': 0.046308229639863516, 'max_depth': 7, 'scale_pos_weight': 63.78561351358031}. Best is trial 13 with value: 0.8718970271163409.\n",
      "[I 2024-03-06 19:05:48,731] Trial 369 finished with value: 0.8663555432659849 and parameters: {'n_estimators': 242, 'learning_rate': 0.10865152487929797, 'max_depth': 7, 'scale_pos_weight': 27.094947090959394}. Best is trial 13 with value: 0.8718970271163409.\n",
      "[I 2024-03-06 19:05:54,189] Trial 370 finished with value: 0.7672510249030589 and parameters: {'n_estimators': 140, 'learning_rate': 0.025285913918433205, 'max_depth': 4, 'scale_pos_weight': 18.674951058551123}. Best is trial 13 with value: 0.8718970271163409.\n",
      "[I 2024-03-06 19:05:59,823] Trial 371 finished with value: 0.4902420914704635 and parameters: {'n_estimators': 174, 'learning_rate': 0.03850951686938471, 'max_depth': 3, 'scale_pos_weight': 99.64419670890676}. Best is trial 13 with value: 0.8718970271163409.\n",
      "[I 2024-03-06 19:06:06,449] Trial 372 finished with value: 0.7205287623305395 and parameters: {'n_estimators': 132, 'learning_rate': 0.06245113895702547, 'max_depth': 5, 'scale_pos_weight': 109.0616478599467}. Best is trial 13 with value: 0.8718970271163409.\n",
      "[I 2024-03-06 19:06:22,219] Trial 373 finished with value: 0.8445429961075799 and parameters: {'n_estimators': 144, 'learning_rate': 0.049785559904574166, 'max_depth': 10, 'scale_pos_weight': 96.20578384833783}. Best is trial 13 with value: 0.8718970271163409.\n",
      "[I 2024-03-06 19:06:33,945] Trial 374 finished with value: 0.6564333746826058 and parameters: {'n_estimators': 427, 'learning_rate': 0.035790282704493984, 'max_depth': 3, 'scale_pos_weight': 74.5507541916874}. Best is trial 13 with value: 0.8718970271163409.\n",
      "[I 2024-03-06 19:06:58,685] Trial 375 finished with value: 0.8652642640378311 and parameters: {'n_estimators': 472, 'learning_rate': 0.06567628930139298, 'max_depth': 7, 'scale_pos_weight': 31.79770030263126}. Best is trial 13 with value: 0.8718970271163409.\n",
      "[I 2024-03-06 19:07:12,647] Trial 376 finished with value: 0.761330625201851 and parameters: {'n_estimators': 408, 'learning_rate': 0.028704374855752335, 'max_depth': 4, 'scale_pos_weight': 47.798008247805846}. Best is trial 13 with value: 0.8718970271163409.\n",
      "[I 2024-03-06 19:07:21,404] Trial 377 finished with value: 0.6097601616334818 and parameters: {'n_estimators': 303, 'learning_rate': 0.03424097324150802, 'max_depth': 3, 'scale_pos_weight': 68.16820466857959}. Best is trial 13 with value: 0.8718970271163409.\n",
      "[I 2024-03-06 19:07:28,045] Trial 378 finished with value: 0.6893525150133534 and parameters: {'n_estimators': 215, 'learning_rate': 0.06812382214226123, 'max_depth': 3, 'scale_pos_weight': 53.92541120402992}. Best is trial 13 with value: 0.8718970271163409.\n",
      "[I 2024-03-06 19:07:41,694] Trial 379 finished with value: 0.8175915826057409 and parameters: {'n_estimators': 313, 'learning_rate': 0.015182353682242692, 'max_depth': 5, 'scale_pos_weight': 15.785614463287168}. Best is trial 13 with value: 0.8718970271163409.\n",
      "[I 2024-03-06 19:07:46,852] Trial 380 finished with value: 0.7352754678696758 and parameters: {'n_estimators': 125, 'learning_rate': 0.10899602323899453, 'max_depth': 4, 'scale_pos_weight': 90.08618904400983}. Best is trial 13 with value: 0.8718970271163409.\n",
      "[I 2024-03-06 19:08:01,552] Trial 381 finished with value: 0.8626002060020088 and parameters: {'n_estimators': 202, 'learning_rate': 0.07815027222239293, 'max_depth': 8, 'scale_pos_weight': 66.52026146686288}. Best is trial 13 with value: 0.8718970271163409.\n",
      "[I 2024-03-06 19:08:14,262] Trial 382 finished with value: 0.8382430156790059 and parameters: {'n_estimators': 289, 'learning_rate': 0.05118409141472686, 'max_depth': 5, 'scale_pos_weight': 103.24820586726084}. Best is trial 13 with value: 0.8718970271163409.\n",
      "[I 2024-03-06 19:08:26,516] Trial 383 finished with value: 0.8319953262972382 and parameters: {'n_estimators': 433, 'learning_rate': 0.10650269106665126, 'max_depth': 3, 'scale_pos_weight': 81.39542227240086}. Best is trial 13 with value: 0.8718970271163409.\n",
      "[I 2024-03-06 19:08:36,876] Trial 384 finished with value: 0.5108047420440234 and parameters: {'n_estimators': 476, 'learning_rate': 0.028123306616566014, 'max_depth': 2, 'scale_pos_weight': 82.5232714219065}. Best is trial 13 with value: 0.8718970271163409.\n",
      "[I 2024-03-06 19:08:46,295] Trial 385 finished with value: 0.7690021875547464 and parameters: {'n_estimators': 330, 'learning_rate': 0.09418287767582721, 'max_depth': 3, 'scale_pos_weight': 88.47940430458792}. Best is trial 13 with value: 0.8718970271163409.\n",
      "[I 2024-03-06 19:08:51,978] Trial 386 finished with value: 0.48140104022404806 and parameters: {'n_estimators': 180, 'learning_rate': 0.026365594286570454, 'max_depth': 3, 'scale_pos_weight': 90.60321922545204}. Best is trial 13 with value: 0.8718970271163409.\n",
      "[I 2024-03-06 19:09:07,740] Trial 387 finished with value: 0.8568224526310834 and parameters: {'n_estimators': 366, 'learning_rate': 0.06230654247691194, 'max_depth': 5, 'scale_pos_weight': 97.49205948944191}. Best is trial 13 with value: 0.8718970271163409.\n",
      "[I 2024-03-06 19:09:19,372] Trial 388 finished with value: 0.8567028775574815 and parameters: {'n_estimators': 257, 'learning_rate': 0.09165994394715771, 'max_depth': 5, 'scale_pos_weight': 42.463887236739836}. Best is trial 13 with value: 0.8718970271163409.\n",
      "[I 2024-03-06 19:09:41,206] Trial 389 finished with value: 0.8603684093477912 and parameters: {'n_estimators': 285, 'learning_rate': 0.04013778741641421, 'max_depth': 8, 'scale_pos_weight': 56.29924291017271}. Best is trial 13 with value: 0.8718970271163409.\n",
      "[I 2024-03-06 19:09:49,947] Trial 390 finished with value: 0.8570334157664977 and parameters: {'n_estimators': 193, 'learning_rate': 0.09995745732745685, 'max_depth': 5, 'scale_pos_weight': 60.79081472253875}. Best is trial 13 with value: 0.8718970271163409.\n",
      "[I 2024-03-06 19:10:02,750] Trial 391 finished with value: 0.7785830604540938 and parameters: {'n_estimators': 463, 'learning_rate': 0.0724237995913992, 'max_depth': 3, 'scale_pos_weight': 104.38153359748226}. Best is trial 13 with value: 0.8718970271163409.\n",
      "[I 2024-03-06 19:10:12,524] Trial 392 finished with value: 0.6382903352580833 and parameters: {'n_estimators': 351, 'learning_rate': 0.043490561465708615, 'max_depth': 3, 'scale_pos_weight': 88.34277081973255}. Best is trial 13 with value: 0.8718970271163409.\n",
      "[I 2024-03-06 19:10:37,410] Trial 393 finished with value: 0.8656465187562749 and parameters: {'n_estimators': 348, 'learning_rate': 0.06334610919763216, 'max_depth': 10, 'scale_pos_weight': 87.74569323469838}. Best is trial 13 with value: 0.8718970271163409.\n",
      "[I 2024-03-06 19:10:43,764] Trial 394 finished with value: 0.6068692436706288 and parameters: {'n_estimators': 160, 'learning_rate': 0.041172206779554826, 'max_depth': 4, 'scale_pos_weight': 82.83409218299447}. Best is trial 13 with value: 0.8718970271163409.\n",
      "[I 2024-03-06 19:10:53,866] Trial 395 finished with value: 0.8309040685044762 and parameters: {'n_estimators': 113, 'learning_rate': 0.06698896848713165, 'max_depth': 8, 'scale_pos_weight': 97.44422004379244}. Best is trial 13 with value: 0.8718970271163409.\n",
      "[I 2024-03-06 19:10:59,508] Trial 396 finished with value: 0.5534452273141509 and parameters: {'n_estimators': 237, 'learning_rate': 0.09212573046720128, 'max_depth': 2, 'scale_pos_weight': 94.109752090797}. Best is trial 13 with value: 0.8718970271163409.\n",
      "[I 2024-03-06 19:11:13,812] Trial 397 finished with value: 0.8570883214375604 and parameters: {'n_estimators': 151, 'learning_rate': 0.04972872905603673, 'max_depth': 9, 'scale_pos_weight': 17.490917008365116}. Best is trial 13 with value: 0.8718970271163409.\n",
      "[I 2024-03-06 19:11:28,119] Trial 398 finished with value: 0.8628478826724283 and parameters: {'n_estimators': 191, 'learning_rate': 0.08222525683930662, 'max_depth': 8, 'scale_pos_weight': 71.5262396173827}. Best is trial 13 with value: 0.8718970271163409.\n",
      "[I 2024-03-06 19:11:41,274] Trial 399 finished with value: 0.8515205874419012 and parameters: {'n_estimators': 378, 'learning_rate': 0.06427244433475962, 'max_depth': 4, 'scale_pos_weight': 39.02655928543114}. Best is trial 13 with value: 0.8718970271163409.\n",
      "[I 2024-03-06 19:11:52,513] Trial 400 finished with value: 0.8614605882803155 and parameters: {'n_estimators': 172, 'learning_rate': 0.10084505613336284, 'max_depth': 7, 'scale_pos_weight': 45.09365584400039}. Best is trial 13 with value: 0.8718970271163409.\n",
      "[I 2024-03-06 19:12:00,768] Trial 401 finished with value: 0.7758004538166188 and parameters: {'n_estimators': 285, 'learning_rate': 0.10472833396118153, 'max_depth': 3, 'scale_pos_weight': 65.4852815218477}. Best is trial 13 with value: 0.8718970271163409.\n",
      "[I 2024-03-06 19:12:07,746] Trial 402 finished with value: 0.5460575498513492 and parameters: {'n_estimators': 302, 'learning_rate': 0.07114542354346479, 'max_depth': 2, 'scale_pos_weight': 96.93362998385666}. Best is trial 13 with value: 0.8718970271163409.\n",
      "[I 2024-03-06 19:12:34,868] Trial 403 finished with value: 0.8633895699535357 and parameters: {'n_estimators': 473, 'learning_rate': 0.0665133183589209, 'max_depth': 8, 'scale_pos_weight': 102.47493192950253}. Best is trial 13 with value: 0.8718970271163409.\n"
     ]
    },
    {
     "name": "stdout",
     "output_type": "stream",
     "text": [
      "Best value: 0.8718970271163409 (params: {'n_estimators': 476, 'learning_rate': 0.09948273504276488, 'max_depth': 7, 'scale_pos_weight': 27.734352815670388})\n"
     ]
    }
   ],
   "source": [
    "study = optuna.create_study(\n",
    "    storage=\"sqlite:///db.sqlite3\",  # Specify the storage URL here.\n",
    "    study_name=\"KDD_Cup_2004_5\",\n",
    "    direction='maximize',\n",
    "    sampler=optuna.samplers.RandomSampler(seed=42),\n",
    "    load_if_exists=True\n",
    ")\n",
    "study.optimize(objective, n_trials=200)\n",
    "print(f\"Best value: {study.best_value} (params: {study.best_params})\")"
   ]
  },
  {
   "cell_type": "code",
   "execution_count": 20,
   "metadata": {},
   "outputs": [
    {
     "data": {
      "text/plain": [
       "{'n_estimators': 476,\n",
       " 'learning_rate': 0.09948273504276488,\n",
       " 'max_depth': 7,\n",
       " 'scale_pos_weight': 27.734352815670388}"
      ]
     },
     "execution_count": 20,
     "metadata": {},
     "output_type": "execute_result"
    }
   ],
   "source": [
    "study.best_params"
   ]
  },
  {
   "cell_type": "code",
   "execution_count": 21,
   "metadata": {},
   "outputs": [
    {
     "data": {
      "text/html": [
       "<style>#sk-container-id-1 {color: black;background-color: white;}#sk-container-id-1 pre{padding: 0;}#sk-container-id-1 div.sk-toggleable {background-color: white;}#sk-container-id-1 label.sk-toggleable__label {cursor: pointer;display: block;width: 100%;margin-bottom: 0;padding: 0.3em;box-sizing: border-box;text-align: center;}#sk-container-id-1 label.sk-toggleable__label-arrow:before {content: \"▸\";float: left;margin-right: 0.25em;color: #696969;}#sk-container-id-1 label.sk-toggleable__label-arrow:hover:before {color: black;}#sk-container-id-1 div.sk-estimator:hover label.sk-toggleable__label-arrow:before {color: black;}#sk-container-id-1 div.sk-toggleable__content {max-height: 0;max-width: 0;overflow: hidden;text-align: left;background-color: #f0f8ff;}#sk-container-id-1 div.sk-toggleable__content pre {margin: 0.2em;color: black;border-radius: 0.25em;background-color: #f0f8ff;}#sk-container-id-1 input.sk-toggleable__control:checked~div.sk-toggleable__content {max-height: 200px;max-width: 100%;overflow: auto;}#sk-container-id-1 input.sk-toggleable__control:checked~label.sk-toggleable__label-arrow:before {content: \"▾\";}#sk-container-id-1 div.sk-estimator input.sk-toggleable__control:checked~label.sk-toggleable__label {background-color: #d4ebff;}#sk-container-id-1 div.sk-label input.sk-toggleable__control:checked~label.sk-toggleable__label {background-color: #d4ebff;}#sk-container-id-1 input.sk-hidden--visually {border: 0;clip: rect(1px 1px 1px 1px);clip: rect(1px, 1px, 1px, 1px);height: 1px;margin: -1px;overflow: hidden;padding: 0;position: absolute;width: 1px;}#sk-container-id-1 div.sk-estimator {font-family: monospace;background-color: #f0f8ff;border: 1px dotted black;border-radius: 0.25em;box-sizing: border-box;margin-bottom: 0.5em;}#sk-container-id-1 div.sk-estimator:hover {background-color: #d4ebff;}#sk-container-id-1 div.sk-parallel-item::after {content: \"\";width: 100%;border-bottom: 1px solid gray;flex-grow: 1;}#sk-container-id-1 div.sk-label:hover label.sk-toggleable__label {background-color: #d4ebff;}#sk-container-id-1 div.sk-serial::before {content: \"\";position: absolute;border-left: 1px solid gray;box-sizing: border-box;top: 0;bottom: 0;left: 50%;z-index: 0;}#sk-container-id-1 div.sk-serial {display: flex;flex-direction: column;align-items: center;background-color: white;padding-right: 0.2em;padding-left: 0.2em;position: relative;}#sk-container-id-1 div.sk-item {position: relative;z-index: 1;}#sk-container-id-1 div.sk-parallel {display: flex;align-items: stretch;justify-content: center;background-color: white;position: relative;}#sk-container-id-1 div.sk-item::before, #sk-container-id-1 div.sk-parallel-item::before {content: \"\";position: absolute;border-left: 1px solid gray;box-sizing: border-box;top: 0;bottom: 0;left: 50%;z-index: -1;}#sk-container-id-1 div.sk-parallel-item {display: flex;flex-direction: column;z-index: 1;position: relative;background-color: white;}#sk-container-id-1 div.sk-parallel-item:first-child::after {align-self: flex-end;width: 50%;}#sk-container-id-1 div.sk-parallel-item:last-child::after {align-self: flex-start;width: 50%;}#sk-container-id-1 div.sk-parallel-item:only-child::after {width: 0;}#sk-container-id-1 div.sk-dashed-wrapped {border: 1px dashed gray;margin: 0 0.4em 0.5em 0.4em;box-sizing: border-box;padding-bottom: 0.4em;background-color: white;}#sk-container-id-1 div.sk-label label {font-family: monospace;font-weight: bold;display: inline-block;line-height: 1.2em;}#sk-container-id-1 div.sk-label-container {text-align: center;}#sk-container-id-1 div.sk-container {/* jupyter's `normalize.less` sets `[hidden] { display: none; }` but bootstrap.min.css set `[hidden] { display: none !important; }` so we also need the `!important` here to be able to override the default hidden behavior on the sphinx rendered scikit-learn.org. See: https://github.com/scikit-learn/scikit-learn/issues/21755 */display: inline-block !important;position: relative;}#sk-container-id-1 div.sk-text-repr-fallback {display: none;}</style><div id=\"sk-container-id-1\" class=\"sk-top-container\"><div class=\"sk-text-repr-fallback\"><pre>XGBClassifier(base_score=None, booster=None, callbacks=None,\n",
       "              colsample_bylevel=None, colsample_bynode=None,\n",
       "              colsample_bytree=None, device=None, early_stopping_rounds=None,\n",
       "              enable_categorical=False, eval_metric=None, feature_types=None,\n",
       "              gamma=None, grow_policy=None, importance_type=None,\n",
       "              interaction_constraints=None, learning_rate=0.09948273504276488,\n",
       "              max_bin=None, max_cat_threshold=None, max_cat_to_onehot=None,\n",
       "              max_delta_step=None, max_depth=7, max_leaves=None,\n",
       "              min_child_weight=None, missing=nan, monotone_constraints=None,\n",
       "              multi_strategy=None, n_estimators=476, n_jobs=-1,\n",
       "              num_parallel_tree=None, random_state=42, ...)</pre><b>In a Jupyter environment, please rerun this cell to show the HTML representation or trust the notebook. <br />On GitHub, the HTML representation is unable to render, please try loading this page with nbviewer.org.</b></div><div class=\"sk-container\" hidden><div class=\"sk-item\"><div class=\"sk-estimator sk-toggleable\"><input class=\"sk-toggleable__control sk-hidden--visually\" id=\"sk-estimator-id-1\" type=\"checkbox\" checked><label for=\"sk-estimator-id-1\" class=\"sk-toggleable__label sk-toggleable__label-arrow\">XGBClassifier</label><div class=\"sk-toggleable__content\"><pre>XGBClassifier(base_score=None, booster=None, callbacks=None,\n",
       "              colsample_bylevel=None, colsample_bynode=None,\n",
       "              colsample_bytree=None, device=None, early_stopping_rounds=None,\n",
       "              enable_categorical=False, eval_metric=None, feature_types=None,\n",
       "              gamma=None, grow_policy=None, importance_type=None,\n",
       "              interaction_constraints=None, learning_rate=0.09948273504276488,\n",
       "              max_bin=None, max_cat_threshold=None, max_cat_to_onehot=None,\n",
       "              max_delta_step=None, max_depth=7, max_leaves=None,\n",
       "              min_child_weight=None, missing=nan, monotone_constraints=None,\n",
       "              multi_strategy=None, n_estimators=476, n_jobs=-1,\n",
       "              num_parallel_tree=None, random_state=42, ...)</pre></div></div></div></div></div>"
      ],
      "text/plain": [
       "XGBClassifier(base_score=None, booster=None, callbacks=None,\n",
       "              colsample_bylevel=None, colsample_bynode=None,\n",
       "              colsample_bytree=None, device=None, early_stopping_rounds=None,\n",
       "              enable_categorical=False, eval_metric=None, feature_types=None,\n",
       "              gamma=None, grow_policy=None, importance_type=None,\n",
       "              interaction_constraints=None, learning_rate=0.09948273504276488,\n",
       "              max_bin=None, max_cat_threshold=None, max_cat_to_onehot=None,\n",
       "              max_delta_step=None, max_depth=7, max_leaves=None,\n",
       "              min_child_weight=None, missing=nan, monotone_constraints=None,\n",
       "              multi_strategy=None, n_estimators=476, n_jobs=-1,\n",
       "              num_parallel_tree=None, random_state=42, ...)"
      ]
     },
     "execution_count": 21,
     "metadata": {},
     "output_type": "execute_result"
    }
   ],
   "source": [
    "xgb_o = XGBClassifier(**study.best_params, n_jobs=-1, random_state=42)\n",
    "xgb_o.fit(X_train, y_train)"
   ]
  },
  {
   "cell_type": "code",
   "execution_count": 22,
   "metadata": {},
   "outputs": [
    {
     "name": "stdout",
     "output_type": "stream",
     "text": [
      "Best parameters: {'n_estimators': 476, 'learning_rate': 0.09948273504276488, 'max_depth': 7, 'scale_pos_weight': 27.734352815670388}\n"
     ]
    }
   ],
   "source": [
    "# Load study from the SQLite database\n",
    "study = optuna.load_study(\n",
    "    study_name=\"KDD_Cup_2004_5\",\n",
    "    storage=\"sqlite:///db.sqlite3\"  # Specify the same storage URL here.\n",
    ")\n",
    "\n",
    "# Access the best parameters\n",
    "best_params = study.best_params\n",
    "\n",
    "print(f\"Best parameters: {best_params}\")"
   ]
  },
  {
   "cell_type": "code",
   "execution_count": 23,
   "metadata": {},
   "outputs": [
    {
     "name": "stdout",
     "output_type": "stream",
     "text": [
      "Performance metrics: X_train\n",
      "ROC AUC:   100.00%\n",
      "Precision: 100.00%\n",
      "Recall:    100.00%\n",
      "F1:        100.00%\n",
      "AUPRC:     100.00%\n",
      "\n",
      "Performance metrics: X_test\n",
      "ROC AUC:    99.31%\n",
      "Precision:  95.40%\n",
      "Recall:     79.95%\n",
      "F1:         86.99%\n",
      "AUPRC:      90.40%\n",
      "\n"
     ]
    }
   ],
   "source": [
    "xgb_o = XGBClassifier(**best_params, n_jobs=-1, random_state=42)\n",
    "xgb_o.fit(X_train, y_train)\n",
    "\n",
    "performance(X_train, y_train, xgb_o, title=\"X_train\")\n",
    "performance(X_test, y_test, xgb_o, title=\"X_test\")"
   ]
  },
  {
   "cell_type": "code",
   "execution_count": 24,
   "metadata": {},
   "outputs": [
    {
     "name": "stdout",
     "output_type": "stream",
     "text": [
      "Performance metrics: X_train\n",
      "ROC AUC:   100.00%\n",
      "Precision:  98.48%\n",
      "Recall:    100.00%\n",
      "F1:         99.23%\n",
      "AUPRC:      99.99%\n",
      "\n",
      "Performance metrics: X_test\n",
      "ROC AUC:    99.29%\n",
      "Precision:  92.26%\n",
      "Recall:     79.69%\n",
      "F1:         85.52%\n",
      "AUPRC:      89.39%\n",
      "\n"
     ]
    }
   ],
   "source": [
    "performance(X_train, y_train, xgb, title=\"X_train\")\n",
    "performance(X_test, y_test, xgb, title=\"X_test\")"
   ]
  },
  {
   "cell_type": "code",
   "execution_count": 25,
   "metadata": {},
   "outputs": [
    {
     "data": {
      "text/plain": [
       "0.8730795156063448"
      ]
     },
     "execution_count": 25,
     "metadata": {},
     "output_type": "execute_result"
    }
   ],
   "source": [
    "# F1 Score:\n",
    "2 * 0.9543 * 0.8046 / (0.9543 + 0.8046)"
   ]
  },
  {
   "cell_type": "code",
   "execution_count": null,
   "metadata": {},
   "outputs": [],
   "source": []
  }
 ],
 "metadata": {
  "kernelspec": {
   "display_name": "ml2023",
   "language": "python",
   "name": "python3"
  },
  "language_info": {
   "codemirror_mode": {
    "name": "ipython",
    "version": 3
   },
   "file_extension": ".py",
   "mimetype": "text/x-python",
   "name": "python",
   "nbconvert_exporter": "python",
   "pygments_lexer": "ipython3",
   "version": "3.9.16"
  }
 },
 "nbformat": 4,
 "nbformat_minor": 2
}
