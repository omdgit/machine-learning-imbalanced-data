{
 "cells": [
  {
   "cell_type": "markdown",
   "metadata": {},
   "source": [
    "## Misclassification cost as part of training\n",
    "\n",
    "There are 2 ways in which we can introduce cost into the learning function of the algorithm with Scikit-learn:\n",
    "\n",
    "- Defining the **class_weight** parameter for those estimators that allow it, when we set the estimator\n",
    "- Passing a **sample_weight** vector with the weights for every single observation, when we fit the estimator.\n",
    "\n",
    "\n",
    "With both the **class_weight** parameter or the **sample_weight** vector, we indicate that the loss function should be modified to accommodate the class imbalance and the cost attributed to each misclassification.\n",
    "\n",
    "## parameters\n",
    "\n",
    "**class_weight**: can take 'balanced' as argument, in which case it will use the balance ratio as weight. Alternatively, it can take a dictionary with {class: penalty}, pairs. In this case, it penalizes mistakes in samples of class[i] with class_weight[i].\n",
    "\n",
    "So if class_weight = {0:1, and 1:10}, misclassification of observations of class 1 are penalized 10 times more than misclassification of observations of class 0.\n",
    "\n",
    "**sample_weight** is a vector of the same length as y, containing the weight or penalty for each individual observation. In principle, it is more flexible, because it allows us to set weights to the observations and not to the class as a whole. So in this case, for example we could set up higher penalties for fraudulent applications that are more costly (money-wise)than to those fraudulent applications that are of little money.\n",
    "\n",
    "## Important\n",
    "\n",
    "If you use both class_weight and sample_weight, the final penalty will be **the combination of the 2**, so be very careful\n",
    "\n",
    "## Demo\n",
    "\n",
    "In this demo, I will introduce cost-sensitive learning to Logistic Regression. But keep in mind that you can do the same with almost every other classifier in Scikit-learn using **sample_weight** or, using **Class_weight** in those estimators that have that attribute.\n",
    "\n",
    "## Classifiers that support class_weight"
   ]
  },
  {
   "cell_type": "code",
   "execution_count": 1,
   "metadata": {},
   "outputs": [
    {
     "data": {
      "text/plain": [
       "'1.2.2'"
      ]
     },
     "execution_count": 1,
     "metadata": {},
     "output_type": "execute_result"
    }
   ],
   "source": [
    "import sklearn\n",
    "sklearn.__version__"
   ]
  },
  {
   "cell_type": "code",
   "execution_count": 2,
   "metadata": {},
   "outputs": [
    {
     "name": "stdout",
     "output_type": "stream",
     "text": [
      "DecisionTreeClassifier\n",
      "ExtraTreeClassifier\n",
      "ExtraTreesClassifier\n",
      "HistGradientBoostingClassifier\n",
      "LinearSVC\n",
      "LogisticRegression\n",
      "LogisticRegressionCV\n",
      "NuSVC\n",
      "PassiveAggressiveClassifier\n",
      "Perceptron\n",
      "RandomForestClassifier\n",
      "RidgeClassifier\n",
      "RidgeClassifierCV\n",
      "SGDClassifier\n",
      "SVC\n"
     ]
    }
   ],
   "source": [
    "# NOTE, THIS CELL WILL NOT WORK WITH SKLEARN VERSION > 0.24\n",
    "# JUST COMMENT IT OUT, OR DELETE THIS CELL TO CARRY ON WITH THE NOTEBOOK.\n",
    "\n",
    "# Let's find out which classifiers from sklearn support class_weight\n",
    "# as part of the __init__ method, that is, when we set the m up\n",
    "\n",
    "from sklearn.utils import all_estimators\n",
    "\n",
    "estimators = all_estimators(type_filter='classifier')\n",
    "\n",
    "for name, class_ in estimators:\n",
    "    try:\n",
    "        if hasattr(class_(), 'class_weight'):\n",
    "            print(name)\n",
    "    except:\n",
    "        pass"
   ]
  },
  {
   "cell_type": "markdown",
   "metadata": {},
   "source": [
    "Not all classifiers support class_weight. For those which don't, like GradientBoostingClassifier, we can still use sample_weight when we fit the estimator.\n",
    "\n",
    "## Demo\n",
    "\n",
    "In this demo, we are going to introduce the misclassification cost in Logistic Regression, using class_weight and then sample_weight."
   ]
  },
  {
   "cell_type": "code",
   "execution_count": 3,
   "metadata": {},
   "outputs": [],
   "source": [
    "import numpy as np\n",
    "import pandas as pd\n",
    "from sklearn.linear_model import LogisticRegression\n",
    "from sklearn.metrics import roc_auc_score\n",
    "from sklearn import metrics  # omd\n",
    "from sklearn.model_selection import train_test_split"
   ]
  },
  {
   "cell_type": "code",
   "execution_count": 4,
   "metadata": {},
   "outputs": [
    {
     "data": {
      "text/html": [
       "<div>\n",
       "<style scoped>\n",
       "    .dataframe tbody tr th:only-of-type {\n",
       "        vertical-align: middle;\n",
       "    }\n",
       "\n",
       "    .dataframe tbody tr th {\n",
       "        vertical-align: top;\n",
       "    }\n",
       "\n",
       "    .dataframe thead th {\n",
       "        text-align: right;\n",
       "    }\n",
       "</style>\n",
       "<table border=\"1\" class=\"dataframe\">\n",
       "  <thead>\n",
       "    <tr style=\"text-align: right;\">\n",
       "      <th></th>\n",
       "      <th>0</th>\n",
       "      <th>1</th>\n",
       "      <th>2</th>\n",
       "      <th>3</th>\n",
       "      <th>4</th>\n",
       "      <th>5</th>\n",
       "      <th>6</th>\n",
       "      <th>7</th>\n",
       "      <th>8</th>\n",
       "      <th>9</th>\n",
       "      <th>...</th>\n",
       "      <th>65</th>\n",
       "      <th>66</th>\n",
       "      <th>67</th>\n",
       "      <th>68</th>\n",
       "      <th>69</th>\n",
       "      <th>70</th>\n",
       "      <th>71</th>\n",
       "      <th>72</th>\n",
       "      <th>73</th>\n",
       "      <th>target</th>\n",
       "    </tr>\n",
       "  </thead>\n",
       "  <tbody>\n",
       "    <tr>\n",
       "      <th>0</th>\n",
       "      <td>52.0</td>\n",
       "      <td>32.69</td>\n",
       "      <td>0.30</td>\n",
       "      <td>2.5</td>\n",
       "      <td>20.0</td>\n",
       "      <td>1256.8</td>\n",
       "      <td>-0.89</td>\n",
       "      <td>0.33</td>\n",
       "      <td>11.0</td>\n",
       "      <td>-55.0</td>\n",
       "      <td>...</td>\n",
       "      <td>1595.1</td>\n",
       "      <td>-1.64</td>\n",
       "      <td>2.83</td>\n",
       "      <td>-2.0</td>\n",
       "      <td>-50.0</td>\n",
       "      <td>445.2</td>\n",
       "      <td>-0.35</td>\n",
       "      <td>0.26</td>\n",
       "      <td>0.76</td>\n",
       "      <td>-1</td>\n",
       "    </tr>\n",
       "    <tr>\n",
       "      <th>1</th>\n",
       "      <td>58.0</td>\n",
       "      <td>33.33</td>\n",
       "      <td>0.00</td>\n",
       "      <td>16.5</td>\n",
       "      <td>9.5</td>\n",
       "      <td>608.1</td>\n",
       "      <td>0.50</td>\n",
       "      <td>0.07</td>\n",
       "      <td>20.5</td>\n",
       "      <td>-52.5</td>\n",
       "      <td>...</td>\n",
       "      <td>762.9</td>\n",
       "      <td>0.29</td>\n",
       "      <td>0.82</td>\n",
       "      <td>-3.0</td>\n",
       "      <td>-35.0</td>\n",
       "      <td>140.3</td>\n",
       "      <td>1.16</td>\n",
       "      <td>0.39</td>\n",
       "      <td>0.73</td>\n",
       "      <td>-1</td>\n",
       "    </tr>\n",
       "    <tr>\n",
       "      <th>2</th>\n",
       "      <td>77.0</td>\n",
       "      <td>27.27</td>\n",
       "      <td>-0.91</td>\n",
       "      <td>6.0</td>\n",
       "      <td>58.5</td>\n",
       "      <td>1623.6</td>\n",
       "      <td>-1.40</td>\n",
       "      <td>0.02</td>\n",
       "      <td>-6.5</td>\n",
       "      <td>-48.0</td>\n",
       "      <td>...</td>\n",
       "      <td>1491.8</td>\n",
       "      <td>0.32</td>\n",
       "      <td>-1.29</td>\n",
       "      <td>0.0</td>\n",
       "      <td>-34.0</td>\n",
       "      <td>658.2</td>\n",
       "      <td>-0.76</td>\n",
       "      <td>0.26</td>\n",
       "      <td>0.24</td>\n",
       "      <td>-1</td>\n",
       "    </tr>\n",
       "    <tr>\n",
       "      <th>3</th>\n",
       "      <td>41.0</td>\n",
       "      <td>27.91</td>\n",
       "      <td>-0.35</td>\n",
       "      <td>3.0</td>\n",
       "      <td>46.0</td>\n",
       "      <td>1921.6</td>\n",
       "      <td>-1.36</td>\n",
       "      <td>-0.47</td>\n",
       "      <td>-32.0</td>\n",
       "      <td>-51.5</td>\n",
       "      <td>...</td>\n",
       "      <td>2047.7</td>\n",
       "      <td>-0.98</td>\n",
       "      <td>1.53</td>\n",
       "      <td>0.0</td>\n",
       "      <td>-49.0</td>\n",
       "      <td>554.2</td>\n",
       "      <td>-0.83</td>\n",
       "      <td>0.39</td>\n",
       "      <td>0.73</td>\n",
       "      <td>-1</td>\n",
       "    </tr>\n",
       "    <tr>\n",
       "      <th>4</th>\n",
       "      <td>50.0</td>\n",
       "      <td>28.00</td>\n",
       "      <td>-1.32</td>\n",
       "      <td>-9.0</td>\n",
       "      <td>12.0</td>\n",
       "      <td>464.8</td>\n",
       "      <td>0.88</td>\n",
       "      <td>0.19</td>\n",
       "      <td>8.0</td>\n",
       "      <td>-51.5</td>\n",
       "      <td>...</td>\n",
       "      <td>479.5</td>\n",
       "      <td>0.68</td>\n",
       "      <td>-0.59</td>\n",
       "      <td>2.0</td>\n",
       "      <td>-36.0</td>\n",
       "      <td>-6.9</td>\n",
       "      <td>2.02</td>\n",
       "      <td>0.14</td>\n",
       "      <td>-0.23</td>\n",
       "      <td>-1</td>\n",
       "    </tr>\n",
       "  </tbody>\n",
       "</table>\n",
       "<p>5 rows × 75 columns</p>\n",
       "</div>"
      ],
      "text/plain": [
       "      0      1     2     3     4       5     6     7     8     9  ...      65  \\\n",
       "0  52.0  32.69  0.30   2.5  20.0  1256.8 -0.89  0.33  11.0 -55.0  ...  1595.1   \n",
       "1  58.0  33.33  0.00  16.5   9.5   608.1  0.50  0.07  20.5 -52.5  ...   762.9   \n",
       "2  77.0  27.27 -0.91   6.0  58.5  1623.6 -1.40  0.02  -6.5 -48.0  ...  1491.8   \n",
       "3  41.0  27.91 -0.35   3.0  46.0  1921.6 -1.36 -0.47 -32.0 -51.5  ...  2047.7   \n",
       "4  50.0  28.00 -1.32  -9.0  12.0   464.8  0.88  0.19   8.0 -51.5  ...   479.5   \n",
       "\n",
       "     66    67   68    69     70    71    72    73  target  \n",
       "0 -1.64  2.83 -2.0 -50.0  445.2 -0.35  0.26  0.76      -1  \n",
       "1  0.29  0.82 -3.0 -35.0  140.3  1.16  0.39  0.73      -1  \n",
       "2  0.32 -1.29  0.0 -34.0  658.2 -0.76  0.26  0.24      -1  \n",
       "3 -0.98  1.53  0.0 -49.0  554.2 -0.83  0.39  0.73      -1  \n",
       "4  0.68 -0.59  2.0 -36.0   -6.9  2.02  0.14 -0.23      -1  \n",
       "\n",
       "[5 rows x 75 columns]"
      ]
     },
     "execution_count": 4,
     "metadata": {},
     "output_type": "execute_result"
    }
   ],
   "source": [
    "# load data\n",
    "# only a few observations to speed the computaton\n",
    "\n",
    "# data = pd.read_csv('../kdd2004.csv').sample(10000)\n",
    "data = pd.read_csv('../kdd2004.csv')\n",
    "\n",
    "data.head()"
   ]
  },
  {
   "cell_type": "code",
   "execution_count": 5,
   "metadata": {},
   "outputs": [
    {
     "data": {
      "text/plain": [
       "-1    0.991108\n",
       " 1    0.008892\n",
       "Name: target, dtype: float64"
      ]
     },
     "execution_count": 5,
     "metadata": {},
     "output_type": "execute_result"
    }
   ],
   "source": [
    "# imbalanced target\n",
    "\n",
    "data.target.value_counts() / len(data)"
   ]
  },
  {
   "cell_type": "code",
   "execution_count": 6,
   "metadata": {},
   "outputs": [
    {
     "data": {
      "text/plain": [
       "((102025, 74), (43726, 74))"
      ]
     },
     "execution_count": 6,
     "metadata": {},
     "output_type": "execute_result"
    }
   ],
   "source": [
    "# separate dataset into train and test\n",
    "\n",
    "X_train, X_test, y_train, y_test = train_test_split(\n",
    "    data.drop(labels=['target'], axis=1),  # drop the target\n",
    "    data['target'],  # just the target\n",
    "    test_size=0.3,\n",
    "    random_state=0)\n",
    "\n",
    "X_train.shape, X_test.shape"
   ]
  },
  {
   "cell_type": "markdown",
   "metadata": {},
   "source": [
    "## Using class_weight"
   ]
  },
  {
   "cell_type": "code",
   "execution_count": 7,
   "metadata": {},
   "outputs": [],
   "source": [
    "# Logistic Regression with class_weight\n",
    "\n",
    "# we initialize the cost / weights when we set up the transformer\n",
    "\n",
    "def run_Logit(X_train, X_test, y_train, y_test, class_weight):\n",
    "    \n",
    "    # weights introduced here\n",
    "    logit = LogisticRegression(\n",
    "        penalty='l2',\n",
    "        solver='newton-cg',\n",
    "        random_state=0,\n",
    "        max_iter=10,\n",
    "        n_jobs=4,\n",
    "        class_weight=class_weight # weights / cost\n",
    "    )\n",
    "    \n",
    "    logit.fit(X_train, y_train)\n",
    "\n",
    "    print('Train set')\n",
    "    pred = logit.predict_proba(X_train)\n",
    "    print(\n",
    "        'Logistic Regression ROC AUC: {}'.format(roc_auc_score(y_train, pred[:, 1])))\n",
    "\n",
    "    print('Test set')\n",
    "    pred = logit.predict_proba(X_test)\n",
    "    print(\n",
    "        'Logistic Regression ROC AUC: {}'.format(roc_auc_score(y_test, pred[:, 1])))\n",
    "    preds = logit.predict(X_test)\n",
    "    print(f\"Logistic Regression Precision: {metrics.precision_score(y_test, preds)}\")\n",
    "    print(f\"Logistic Regression Recall: {metrics.recall_score(y_test, preds)}\")\n",
    "    print(f\"Logistic Regression F1: {metrics.f1_score(y_test, preds)}\")"
   ]
  },
  {
   "cell_type": "code",
   "execution_count": 8,
   "metadata": {},
   "outputs": [
    {
     "name": "stdout",
     "output_type": "stream",
     "text": [
      "Train set\n",
      "Logistic Regression ROC AUC: 0.9230210002189093\n",
      "Test set\n",
      "Logistic Regression ROC AUC: 0.9256916712192443\n",
      "Logistic Regression Precision: 0.9823788546255506\n",
      "Logistic Regression Recall: 0.5506172839506173\n",
      "Logistic Regression F1: 0.7056962025316456\n"
     ]
    },
    {
     "name": "stderr",
     "output_type": "stream",
     "text": [
      "/Users/oliverdreger/opt/anaconda3/envs/ml2023/lib/python3.11/site-packages/sklearn/utils/optimize.py:210: ConvergenceWarning: newton-cg failed to converge. Increase the number of iterations.\n",
      "  warnings.warn(\n"
     ]
    }
   ],
   "source": [
    "# evaluate performance of algorithm built\n",
    "# using imbalanced dataset\n",
    "\n",
    "run_Logit(X_train,\n",
    "          X_test,\n",
    "          y_train,\n",
    "          y_test,\n",
    "          class_weight=None)"
   ]
  },
  {
   "cell_type": "code",
   "execution_count": 9,
   "metadata": {},
   "outputs": [],
   "source": [
    "# omd \n",
    "\n",
    "def performance(X, y, model, title=None):\n",
    "\n",
    "    # Predict probabilities on the test set\n",
    "    y_probs = model.predict_proba(X)[:, 1]\n",
    "    y_preds = model.predict(X)\n",
    "\n",
    "    # Calculate evaluation metrics\n",
    "    roc_auc = metrics.roc_auc_score(y, y_probs)\n",
    "    precision = metrics.precision_score(y, y_preds)\n",
    "    recall = metrics.recall_score(y, y_preds)\n",
    "    f1 = metrics.f1_score(y, y_preds)\n",
    "    aupr = metrics.average_precision_score(y, y_probs)\n",
    "\n",
    "    if title is None:\n",
    "        title = 'Performance metrics:'\n",
    "    else:\n",
    "        title = f'Performance metrics: {title}'\n",
    "    print(title)\n",
    "    print(\"ROC AUC:\".ljust(10) + f\"{roc_auc:.2%}\".rjust(8))\n",
    "    print(\"Precision:\".ljust(10) + f\"{precision:.2%}\".rjust(8))\n",
    "    print(\"Recall:\".ljust(10) + f\"{recall:.2%}\".rjust(8))\n",
    "    print(\"F1:\".ljust(10) + f\"{f1:.2%}\".rjust(8))\n",
    "    print(\"AUPRC:\".ljust(10) + f\"{aupr:.2%}\".rjust(8))\n",
    "    print()"
   ]
  },
  {
   "cell_type": "markdown",
   "metadata": {},
   "source": [
    "## Question: In the following code, how is the X_test and y_test_mod used in the xgb.fit() method? \n",
    "\n",
    "In the `xgb.fit()` method, `X_test` and `y_test_mod` are used as part of the `eval_set` parameter. The `eval_set` is a list of pairs, where each pair is a set of examples that will be used for validation during training. In this case, two pairs are provided: the training set `(X_train, y_train_mod)` and the test set `(X_test, y_test_mod)`.\n",
    "\n",
    "The `eval_metric` parameter specifies the evaluation metric to be used on the validation set. Here, `f1_eval` is used, which likely refers to the F1 score, a common metric for binary classification problems.\n",
    "\n",
    "The `early_stopping_rounds` parameter is used to stop training when the performance on the validation set doesn't improve for a specified number of rounds. In this case, if the F1 score doesn't improve for 10 rounds, training will stop early.\n",
    "\n",
    "So, `X_test` and `y_test_mod` are used to monitor the model's performance on an unseen dataset during training, and to potentially stop training early if the model isn't improving. This can help prevent overfitting to the training data.  \n",
    "\n",
    "## Question: So is there data leakage for the model's performance on forecasting X_test?  \n",
    "\n",
    "No, there is no data leakage in this case. Data leakage would occur if information from the test set, `X_test`, was used during the training of the model. However, in this case, `X_test` and `y_test_mod` are only used for validation purposes during training, not for the actual training itself.\n",
    "\n",
    "The model is trained on `X_train` and `y_train_mod`, and then its performance is evaluated on `X_test` and `y_test_mod`. This is a common practice in machine learning to assess how well the model generalizes to unseen data.\n",
    "\n",
    "However, it's important to note that if you use the test set for tuning hyperparameters or making decisions about the model based on its performance on the test set, then it could lead to a form of data leakage known as \"test set overuse\". This is because you're using the test set to make decisions during the model development process, which should ideally only be done using the training and validation sets. The test set should ideally only be used once, at the very end of your modeling process, to evaluate final model performance. But in the provided code, there's no evidence of such misuse. So, there's no data leakage in this context.\n",
    "\n",
    "## Question: Would the following code be appropriate to calculate the class weight and sample weight?\n",
    "\n",
    "```python\n",
    "class_weights = len(y_train) / y_train.value_counts()\n",
    "sample_weights = np.array([class_weights[y] for y in y_train])\n",
    "```\n",
    "**Yes, the code you provided is appropriate** for calculating both the class weights and sample weights based on the distribution of classes in the training set. Let me break down what each line does:\n",
    "\n",
    "```python\n",
    "class_weights = len(y_train) / y_train.value_counts()\n",
    "```\n",
    "This line calculates the class weights. `y_train.value_counts()` returns the count of each unique class label in `y_train`, and `len(y_train)` is the total number of samples in the training set. By dividing the total number of samples by the count of each class, you're essentially calculating the inverse of the class frequencies. This will give higher weights to less frequent classes and lower weights to more frequent classes.\n",
    "\n",
    "```python\n",
    "sample_weights = np.array([class_weights[y] for y in y_train])\n",
    "```\n",
    "This line calculates the sample weights based on the class weights. For each sample label `y` in `y_train`, it retrieves the corresponding class weight from the `class_weights` dictionary and assigns it to the sample weight for that sample. This way, each sample is assigned a weight based on the class it belongs to.\n",
    "\n",
    "Overall, this approach is suitable for assigning weights to address class imbalance in the training set. Just make sure to use these weights appropriately when training your model, as shown in the previous examples.\n"
   ]
  },
  {
   "cell_type": "code",
   "execution_count": 17,
   "metadata": {},
   "outputs": [
    {
     "name": "stdout",
     "output_type": "stream",
     "text": [
      "Imbalance ratio: 113\n"
     ]
    },
    {
     "name": "stderr",
     "output_type": "stream",
     "text": [
      "/Users/oliverdreger/opt/anaconda3/envs/ml2023/lib/python3.11/site-packages/xgboost/sklearn.py:835: UserWarning: `eval_metric` in `fit` method is deprecated for better compatibility with scikit-learn, use `eval_metric` in constructor or`set_params` instead.\n",
      "  warnings.warn(\n",
      "/Users/oliverdreger/opt/anaconda3/envs/ml2023/lib/python3.11/site-packages/xgboost/sklearn.py:835: UserWarning: `early_stopping_rounds` in `fit` method is deprecated for better compatibility with scikit-learn, use `early_stopping_rounds` in constructor or`set_params` instead.\n",
      "  warnings.warn(\n"
     ]
    },
    {
     "name": "stdout",
     "output_type": "stream",
     "text": [
      "[0]\tvalidation_0-logloss:0.47240\tvalidation_0-f1_err:0.72264\tvalidation_1-logloss:0.47316\tvalidation_1-f1_err:0.72488\n",
      "[1]\tvalidation_0-logloss:0.34251\tvalidation_0-f1_err:0.57021\tvalidation_1-logloss:0.34442\tvalidation_1-f1_err:0.61077\n",
      "[2]\tvalidation_0-logloss:0.25595\tvalidation_0-f1_err:0.55065\tvalidation_1-logloss:0.25820\tvalidation_1-f1_err:0.58770\n",
      "[3]\tvalidation_0-logloss:0.19627\tvalidation_0-f1_err:0.44729\tvalidation_1-logloss:0.19929\tvalidation_1-f1_err:0.49718\n",
      "[4]\tvalidation_0-logloss:0.15439\tvalidation_0-f1_err:0.42736\tvalidation_1-logloss:0.15748\tvalidation_1-f1_err:0.48543\n",
      "[5]\tvalidation_0-logloss:0.12324\tvalidation_0-f1_err:0.40061\tvalidation_1-logloss:0.12694\tvalidation_1-f1_err:0.45509\n",
      "[6]\tvalidation_0-logloss:0.10104\tvalidation_0-f1_err:0.39145\tvalidation_1-logloss:0.10478\tvalidation_1-f1_err:0.44207\n",
      "[7]\tvalidation_0-logloss:0.08520\tvalidation_0-f1_err:0.39646\tvalidation_1-logloss:0.08914\tvalidation_1-f1_err:0.45249\n",
      "[8]\tvalidation_0-logloss:0.07317\tvalidation_0-f1_err:0.38849\tvalidation_1-logloss:0.07718\tvalidation_1-f1_err:0.44385\n",
      "[9]\tvalidation_0-logloss:0.06316\tvalidation_0-f1_err:0.38188\tvalidation_1-logloss:0.06743\tvalidation_1-f1_err:0.43079\n",
      "[10]\tvalidation_0-logloss:0.05569\tvalidation_0-f1_err:0.37667\tvalidation_1-logloss:0.06021\tvalidation_1-f1_err:0.42946\n",
      "[11]\tvalidation_0-logloss:0.04982\tvalidation_0-f1_err:0.36707\tvalidation_1-logloss:0.05446\tvalidation_1-f1_err:0.42184\n",
      "[12]\tvalidation_0-logloss:0.04285\tvalidation_0-f1_err:0.34195\tvalidation_1-logloss:0.04784\tvalidation_1-f1_err:0.40681\n",
      "[13]\tvalidation_0-logloss:0.03913\tvalidation_0-f1_err:0.32653\tvalidation_1-logloss:0.04426\tvalidation_1-f1_err:0.39304\n",
      "[14]\tvalidation_0-logloss:0.03591\tvalidation_0-f1_err:0.32269\tvalidation_1-logloss:0.04090\tvalidation_1-f1_err:0.39145\n",
      "[15]\tvalidation_0-logloss:0.03283\tvalidation_0-f1_err:0.31144\tvalidation_1-logloss:0.03782\tvalidation_1-f1_err:0.37349\n",
      "[16]\tvalidation_0-logloss:0.02943\tvalidation_0-f1_err:0.29258\tvalidation_1-logloss:0.03448\tvalidation_1-f1_err:0.35909\n",
      "[17]\tvalidation_0-logloss:0.02652\tvalidation_0-f1_err:0.27679\tvalidation_1-logloss:0.03175\tvalidation_1-f1_err:0.34650\n",
      "[18]\tvalidation_0-logloss:0.02456\tvalidation_0-f1_err:0.26637\tvalidation_1-logloss:0.02991\tvalidation_1-f1_err:0.34124\n",
      "[19]\tvalidation_0-logloss:0.02228\tvalidation_0-f1_err:0.25533\tvalidation_1-logloss:0.02773\tvalidation_1-f1_err:0.32962\n",
      "[20]\tvalidation_0-logloss:0.02085\tvalidation_0-f1_err:0.24235\tvalidation_1-logloss:0.02651\tvalidation_1-f1_err:0.32830\n",
      "[21]\tvalidation_0-logloss:0.01915\tvalidation_0-f1_err:0.22723\tvalidation_1-logloss:0.02507\tvalidation_1-f1_err:0.31744\n",
      "[22]\tvalidation_0-logloss:0.01728\tvalidation_0-f1_err:0.21429\tvalidation_1-logloss:0.02334\tvalidation_1-f1_err:0.31262\n",
      "[23]\tvalidation_0-logloss:0.01597\tvalidation_0-f1_err:0.19548\tvalidation_1-logloss:0.02205\tvalidation_1-f1_err:0.28955\n",
      "[24]\tvalidation_0-logloss:0.01423\tvalidation_0-f1_err:0.17309\tvalidation_1-logloss:0.02051\tvalidation_1-f1_err:0.27886\n",
      "[25]\tvalidation_0-logloss:0.01351\tvalidation_0-f1_err:0.16534\tvalidation_1-logloss:0.01990\tvalidation_1-f1_err:0.27515\n",
      "[26]\tvalidation_0-logloss:0.01244\tvalidation_0-f1_err:0.15021\tvalidation_1-logloss:0.01895\tvalidation_1-f1_err:0.26327\n",
      "[27]\tvalidation_0-logloss:0.01144\tvalidation_0-f1_err:0.13495\tvalidation_1-logloss:0.01808\tvalidation_1-f1_err:0.24921\n",
      "[28]\tvalidation_0-logloss:0.00972\tvalidation_0-f1_err:0.10989\tvalidation_1-logloss:0.01639\tvalidation_1-f1_err:0.23010\n",
      "[29]\tvalidation_0-logloss:0.00888\tvalidation_0-f1_err:0.10000\tvalidation_1-logloss:0.01566\tvalidation_1-f1_err:0.22173\n",
      "[30]\tvalidation_0-logloss:0.00807\tvalidation_0-f1_err:0.09451\tvalidation_1-logloss:0.01501\tvalidation_1-f1_err:0.21826\n",
      "[31]\tvalidation_0-logloss:0.00758\tvalidation_0-f1_err:0.08989\tvalidation_1-logloss:0.01474\tvalidation_1-f1_err:0.21348\n",
      "[32]\tvalidation_0-logloss:0.00683\tvalidation_0-f1_err:0.07477\tvalidation_1-logloss:0.01408\tvalidation_1-f1_err:0.20678\n",
      "[33]\tvalidation_0-logloss:0.00617\tvalidation_0-f1_err:0.07236\tvalidation_1-logloss:0.01332\tvalidation_1-f1_err:0.20183\n",
      "[34]\tvalidation_0-logloss:0.00587\tvalidation_0-f1_err:0.06897\tvalidation_1-logloss:0.01312\tvalidation_1-f1_err:0.19678\n",
      "[35]\tvalidation_0-logloss:0.00546\tvalidation_0-f1_err:0.06358\tvalidation_1-logloss:0.01278\tvalidation_1-f1_err:0.19585\n",
      "[36]\tvalidation_0-logloss:0.00505\tvalidation_0-f1_err:0.05664\tvalidation_1-logloss:0.01255\tvalidation_1-f1_err:0.19213\n",
      "[37]\tvalidation_0-logloss:0.00463\tvalidation_0-f1_err:0.05364\tvalidation_1-logloss:0.01218\tvalidation_1-f1_err:0.18787\n",
      "[38]\tvalidation_0-logloss:0.00424\tvalidation_0-f1_err:0.04859\tvalidation_1-logloss:0.01175\tvalidation_1-f1_err:0.17633\n",
      "[39]\tvalidation_0-logloss:0.00388\tvalidation_0-f1_err:0.04245\tvalidation_1-logloss:0.01145\tvalidation_1-f1_err:0.17225\n",
      "[40]\tvalidation_0-logloss:0.00360\tvalidation_0-f1_err:0.03935\tvalidation_1-logloss:0.01131\tvalidation_1-f1_err:0.17717\n",
      "[41]\tvalidation_0-logloss:0.00329\tvalidation_0-f1_err:0.02994\tvalidation_1-logloss:0.01106\tvalidation_1-f1_err:0.17422\n",
      "[42]\tvalidation_0-logloss:0.00308\tvalidation_0-f1_err:0.02516\tvalidation_1-logloss:0.01089\tvalidation_1-f1_err:0.17126\n",
      "[43]\tvalidation_0-logloss:0.00293\tvalidation_0-f1_err:0.02463\tvalidation_1-logloss:0.01090\tvalidation_1-f1_err:0.17085\n",
      "[44]\tvalidation_0-logloss:0.00276\tvalidation_0-f1_err:0.02195\tvalidation_1-logloss:0.01077\tvalidation_1-f1_err:0.16223\n",
      "[45]\tvalidation_0-logloss:0.00258\tvalidation_0-f1_err:0.02142\tvalidation_1-logloss:0.01063\tvalidation_1-f1_err:0.15815\n",
      "[46]\tvalidation_0-logloss:0.00243\tvalidation_0-f1_err:0.01601\tvalidation_1-logloss:0.01058\tvalidation_1-f1_err:0.16484\n",
      "[47]\tvalidation_0-logloss:0.00218\tvalidation_0-f1_err:0.01329\tvalidation_1-logloss:0.01050\tvalidation_1-f1_err:0.16216\n",
      "[48]\tvalidation_0-logloss:0.00205\tvalidation_0-f1_err:0.00945\tvalidation_1-logloss:0.01046\tvalidation_1-f1_err:0.16176\n",
      "[49]\tvalidation_0-logloss:0.00185\tvalidation_0-f1_err:0.00945\tvalidation_1-logloss:0.01030\tvalidation_1-f1_err:0.16113\n",
      "[50]\tvalidation_0-logloss:0.00170\tvalidation_0-f1_err:0.00613\tvalidation_1-logloss:0.01012\tvalidation_1-f1_err:0.15737\n",
      "[51]\tvalidation_0-logloss:0.00162\tvalidation_0-f1_err:0.00613\tvalidation_1-logloss:0.01004\tvalidation_1-f1_err:0.15776\n",
      "[52]\tvalidation_0-logloss:0.00150\tvalidation_0-f1_err:0.00502\tvalidation_1-logloss:0.01000\tvalidation_1-f1_err:0.15672\n",
      "[53]\tvalidation_0-logloss:0.00143\tvalidation_0-f1_err:0.00502\tvalidation_1-logloss:0.01000\tvalidation_1-f1_err:0.15605\n",
      "[54]\tvalidation_0-logloss:0.00131\tvalidation_0-f1_err:0.00336\tvalidation_1-logloss:0.00996\tvalidation_1-f1_err:0.15500\n",
      "[55]\tvalidation_0-logloss:0.00125\tvalidation_0-f1_err:0.00280\tvalidation_1-logloss:0.00996\tvalidation_1-f1_err:0.15500\n",
      "[56]\tvalidation_0-logloss:0.00115\tvalidation_0-f1_err:0.00224\tvalidation_1-logloss:0.00983\tvalidation_1-f1_err:0.15433\n",
      "[57]\tvalidation_0-logloss:0.00110\tvalidation_0-f1_err:0.00224\tvalidation_1-logloss:0.00986\tvalidation_1-f1_err:0.15645\n",
      "[58]\tvalidation_0-logloss:0.00104\tvalidation_0-f1_err:0.00168\tvalidation_1-logloss:0.00989\tvalidation_1-f1_err:0.15657\n",
      "[59]\tvalidation_0-logloss:0.00094\tvalidation_0-f1_err:0.00168\tvalidation_1-logloss:0.00981\tvalidation_1-f1_err:0.14975\n",
      "[60]\tvalidation_0-logloss:0.00088\tvalidation_0-f1_err:0.00168\tvalidation_1-logloss:0.00983\tvalidation_1-f1_err:0.14687\n",
      "[61]\tvalidation_0-logloss:0.00079\tvalidation_0-f1_err:0.00056\tvalidation_1-logloss:0.00988\tvalidation_1-f1_err:0.14867\n",
      "[62]\tvalidation_0-logloss:0.00072\tvalidation_0-f1_err:0.00000\tvalidation_1-logloss:0.00984\tvalidation_1-f1_err:0.14613\n",
      "[63]\tvalidation_0-logloss:0.00067\tvalidation_0-f1_err:0.00000\tvalidation_1-logloss:0.00982\tvalidation_1-f1_err:0.14359\n",
      "[64]\tvalidation_0-logloss:0.00063\tvalidation_0-f1_err:0.00000\tvalidation_1-logloss:0.00982\tvalidation_1-f1_err:0.14028\n",
      "[65]\tvalidation_0-logloss:0.00058\tvalidation_0-f1_err:0.00000\tvalidation_1-logloss:0.00983\tvalidation_1-f1_err:0.14469\n",
      "[66]\tvalidation_0-logloss:0.00056\tvalidation_0-f1_err:0.00000\tvalidation_1-logloss:0.00988\tvalidation_1-f1_err:0.13956\n",
      "[67]\tvalidation_0-logloss:0.00054\tvalidation_0-f1_err:0.00000\tvalidation_1-logloss:0.00993\tvalidation_1-f1_err:0.13846\n",
      "[68]\tvalidation_0-logloss:0.00050\tvalidation_0-f1_err:0.00000\tvalidation_1-logloss:0.00991\tvalidation_1-f1_err:0.13846\n",
      "[69]\tvalidation_0-logloss:0.00048\tvalidation_0-f1_err:0.00000\tvalidation_1-logloss:0.00991\tvalidation_1-f1_err:0.13736\n",
      "[70]\tvalidation_0-logloss:0.00046\tvalidation_0-f1_err:0.00000\tvalidation_1-logloss:0.00993\tvalidation_1-f1_err:0.13956\n",
      "[71]\tvalidation_0-logloss:0.00042\tvalidation_0-f1_err:0.00000\tvalidation_1-logloss:0.00992\tvalidation_1-f1_err:0.13882\n",
      "[72]\tvalidation_0-logloss:0.00041\tvalidation_0-f1_err:0.00000\tvalidation_1-logloss:0.00994\tvalidation_1-f1_err:0.13660\n",
      "[73]\tvalidation_0-logloss:0.00038\tvalidation_0-f1_err:0.00000\tvalidation_1-logloss:0.00996\tvalidation_1-f1_err:0.13548\n",
      "[74]\tvalidation_0-logloss:0.00036\tvalidation_0-f1_err:0.00000\tvalidation_1-logloss:0.00996\tvalidation_1-f1_err:0.13583\n",
      "[75]\tvalidation_0-logloss:0.00034\tvalidation_0-f1_err:0.00000\tvalidation_1-logloss:0.00996\tvalidation_1-f1_err:0.13548\n",
      "[76]\tvalidation_0-logloss:0.00032\tvalidation_0-f1_err:0.00000\tvalidation_1-logloss:0.00997\tvalidation_1-f1_err:0.13437\n",
      "[77]\tvalidation_0-logloss:0.00031\tvalidation_0-f1_err:0.00000\tvalidation_1-logloss:0.01001\tvalidation_1-f1_err:0.13212\n",
      "[78]\tvalidation_0-logloss:0.00030\tvalidation_0-f1_err:0.00000\tvalidation_1-logloss:0.01001\tvalidation_1-f1_err:0.13212\n",
      "[79]\tvalidation_0-logloss:0.00029\tvalidation_0-f1_err:0.00000\tvalidation_1-logloss:0.01002\tvalidation_1-f1_err:0.13290\n",
      "[80]\tvalidation_0-logloss:0.00028\tvalidation_0-f1_err:0.00000\tvalidation_1-logloss:0.01004\tvalidation_1-f1_err:0.12953\n",
      "[81]\tvalidation_0-logloss:0.00027\tvalidation_0-f1_err:0.00000\tvalidation_1-logloss:0.01008\tvalidation_1-f1_err:0.13178\n",
      "[82]\tvalidation_0-logloss:0.00026\tvalidation_0-f1_err:0.00000\tvalidation_1-logloss:0.01010\tvalidation_1-f1_err:0.13178\n",
      "[83]\tvalidation_0-logloss:0.00025\tvalidation_0-f1_err:0.00000\tvalidation_1-logloss:0.01013\tvalidation_1-f1_err:0.13437\n",
      "[84]\tvalidation_0-logloss:0.00023\tvalidation_0-f1_err:0.00000\tvalidation_1-logloss:0.01018\tvalidation_1-f1_err:0.12840\n",
      "[85]\tvalidation_0-logloss:0.00022\tvalidation_0-f1_err:0.00000\tvalidation_1-logloss:0.01019\tvalidation_1-f1_err:0.12840\n",
      "[86]\tvalidation_0-logloss:0.00022\tvalidation_0-f1_err:0.00000\tvalidation_1-logloss:0.01023\tvalidation_1-f1_err:0.12581\n",
      "[87]\tvalidation_0-logloss:0.00021\tvalidation_0-f1_err:0.00000\tvalidation_1-logloss:0.01026\tvalidation_1-f1_err:0.12581\n",
      "[88]\tvalidation_0-logloss:0.00020\tvalidation_0-f1_err:0.00000\tvalidation_1-logloss:0.01026\tvalidation_1-f1_err:0.12467\n",
      "[89]\tvalidation_0-logloss:0.00019\tvalidation_0-f1_err:0.00000\tvalidation_1-logloss:0.01031\tvalidation_1-f1_err:0.12727\n",
      "[90]\tvalidation_0-logloss:0.00019\tvalidation_0-f1_err:0.00000\tvalidation_1-logloss:0.01034\tvalidation_1-f1_err:0.12581\n",
      "[91]\tvalidation_0-logloss:0.00018\tvalidation_0-f1_err:0.00000\tvalidation_1-logloss:0.01036\tvalidation_1-f1_err:0.12581\n",
      "[92]\tvalidation_0-logloss:0.00018\tvalidation_0-f1_err:0.00000\tvalidation_1-logloss:0.01035\tvalidation_1-f1_err:0.12760\n",
      "[93]\tvalidation_0-logloss:0.00017\tvalidation_0-f1_err:0.00000\tvalidation_1-logloss:0.01032\tvalidation_1-f1_err:0.12647\n",
      "[94]\tvalidation_0-logloss:0.00017\tvalidation_0-f1_err:0.00000\tvalidation_1-logloss:0.01034\tvalidation_1-f1_err:0.12647\n",
      "[95]\tvalidation_0-logloss:0.00016\tvalidation_0-f1_err:0.00000\tvalidation_1-logloss:0.01037\tvalidation_1-f1_err:0.12614\n",
      "[96]\tvalidation_0-logloss:0.00016\tvalidation_0-f1_err:0.00000\tvalidation_1-logloss:0.01040\tvalidation_1-f1_err:0.12647\n",
      "[97]\tvalidation_0-logloss:0.00016\tvalidation_0-f1_err:0.00000\tvalidation_1-logloss:0.01042\tvalidation_1-f1_err:0.12907\n",
      "ROC AUC for X_train: 100.00%\n",
      "Performance metrics: X_test\n",
      "ROC AUC:    99.29%\n",
      "Precision:  92.33%\n",
      "Recall:     83.21%\n",
      "F1:         87.53%\n",
      "AUPRC:      90.91%\n",
      "\n"
     ]
    }
   ],
   "source": [
    "# omd \n",
    "\n",
    "from xgboost import XGBClassifier, XGBRFClassifier\n",
    "from sklearn.metrics import f1_score\n",
    "\n",
    "imbal_ratio = len(y_train[y_train==-1]) // len(y_train[y_train==1])\n",
    "print(f\"Imbalance ratio: {imbal_ratio}\")\n",
    "\n",
    "def f1_eval(y_pred, dtrain):\n",
    "    y_true = dtrain.get_label()\n",
    "    err = 1 - f1_score(y_true, np.round(y_pred))\n",
    "    return 'f1_err', err\n",
    "\n",
    "params = {\n",
    "    'learning_rate': 0.1,\n",
    "    'n_estimators': 100,\n",
    "    'max_depth': 12,\n",
    "    'scale_pos_weight': imbal_ratio,\n",
    "    # 'max_delta_step': 10,\n",
    "    'reg_alpha':0.5,\n",
    "    'reg_lambda':0.5,\n",
    "    # 'subsample': 0.9,\n",
    "    # 'colsample_bytree': 0.5\n",
    "}\n",
    "\n",
    "# xgb = XGBClassifier(**params, n_jobs=-1, random_state=0)\n",
    "xgb = XGBClassifier(n_jobs=-1, random_state=0)\n",
    "# xgb = XGBRFClassifier(**params, n_jobs=-1, random_state=0)\n",
    "\n",
    "y_train_mod = y_train.replace(-1, 0)\n",
    "y_test_mod = y_test.replace(-1, 0)\n",
    "\n",
    "# Calculate class_weights and sample_weights based on the class_weights\n",
    "class_weights = len(y_train) / y_train_mod.value_counts()\n",
    "sample_weights = np.array([class_weights[y] for y in y_train_mod])\n",
    "\n",
    "xgb.fit(X_train, y_train_mod, sample_weight=sample_weights, \n",
    "        eval_set=[(X_train, y_train_mod), (X_test, y_test_mod)], eval_metric=f1_eval, \n",
    "        early_stopping_rounds=10, verbose=True)\n",
    "\n",
    "# Calculate performance metrics\n",
    "roc_auc_train = roc_auc_score(y_train_mod, xgb.predict_proba(X_train)[:,1])\n",
    "print(f'ROC AUC for X_train: {roc_auc_train:.2%}')\n",
    "\n",
    "# Show model performance for X_test \n",
    "performance(X_test, y_test_mod, xgb, title=\"X_test\")"
   ]
  },
  {
   "cell_type": "code",
   "execution_count": 18,
   "metadata": {},
   "outputs": [],
   "source": [
    "# omd\n",
    "\n",
    "# Save the trained XGBoost model\n",
    "xgb.save_model('xgb_model.json')"
   ]
  },
  {
   "cell_type": "code",
   "execution_count": 19,
   "metadata": {},
   "outputs": [
    {
     "name": "stdout",
     "output_type": "stream",
     "text": [
      "Performance metrics: X_test\n",
      "ROC AUC:    99.29%\n",
      "Precision:  92.33%\n",
      "Recall:     83.21%\n",
      "F1:         87.53%\n",
      "AUPRC:      90.91%\n",
      "\n"
     ]
    }
   ],
   "source": [
    "# omd\n",
    "\n",
    "# Create a new XGBoost model\n",
    "xgb_loaded = XGBClassifier(n_jobs=-1, random_state=0)\n",
    "\n",
    "# Load the model from the file\n",
    "xgb_loaded.load_model('xgb_model.json')\n",
    "\n",
    "# Show model performance for X_test \n",
    "performance(X_test, y_test_mod, xgb_loaded, title=\"X_test\")"
   ]
  },
  {
   "cell_type": "code",
   "execution_count": 20,
   "metadata": {},
   "outputs": [
    {
     "data": {
      "text/html": [
       "<div>\n",
       "<style scoped>\n",
       "    .dataframe tbody tr th:only-of-type {\n",
       "        vertical-align: middle;\n",
       "    }\n",
       "\n",
       "    .dataframe tbody tr th {\n",
       "        vertical-align: top;\n",
       "    }\n",
       "\n",
       "    .dataframe thead th {\n",
       "        text-align: right;\n",
       "    }\n",
       "</style>\n",
       "<table border=\"1\" class=\"dataframe\">\n",
       "  <thead>\n",
       "    <tr style=\"text-align: right;\">\n",
       "      <th></th>\n",
       "      <th>y</th>\n",
       "      <th>sample_weight</th>\n",
       "    </tr>\n",
       "  </thead>\n",
       "  <tbody>\n",
       "    <tr>\n",
       "      <th>120222</th>\n",
       "      <td>0</td>\n",
       "      <td>1.00881</td>\n",
       "    </tr>\n",
       "    <tr>\n",
       "      <th>38087</th>\n",
       "      <td>0</td>\n",
       "      <td>1.00881</td>\n",
       "    </tr>\n",
       "    <tr>\n",
       "      <th>58290</th>\n",
       "      <td>0</td>\n",
       "      <td>1.00881</td>\n",
       "    </tr>\n",
       "    <tr>\n",
       "      <th>79865</th>\n",
       "      <td>0</td>\n",
       "      <td>1.00881</td>\n",
       "    </tr>\n",
       "    <tr>\n",
       "      <th>45816</th>\n",
       "      <td>0</td>\n",
       "      <td>1.00881</td>\n",
       "    </tr>\n",
       "  </tbody>\n",
       "</table>\n",
       "</div>"
      ],
      "text/plain": [
       "        y  sample_weight\n",
       "120222  0        1.00881\n",
       "38087   0        1.00881\n",
       "58290   0        1.00881\n",
       "79865   0        1.00881\n",
       "45816   0        1.00881"
      ]
     },
     "metadata": {},
     "output_type": "display_data"
    },
    {
     "data": {
      "text/html": [
       "<div>\n",
       "<style scoped>\n",
       "    .dataframe tbody tr th:only-of-type {\n",
       "        vertical-align: middle;\n",
       "    }\n",
       "\n",
       "    .dataframe tbody tr th {\n",
       "        vertical-align: top;\n",
       "    }\n",
       "\n",
       "    .dataframe thead th {\n",
       "        text-align: right;\n",
       "    }\n",
       "</style>\n",
       "<table border=\"1\" class=\"dataframe\">\n",
       "  <thead>\n",
       "    <tr style=\"text-align: right;\">\n",
       "      <th></th>\n",
       "      <th>y</th>\n",
       "      <th>sample_weight</th>\n",
       "    </tr>\n",
       "  </thead>\n",
       "  <tbody>\n",
       "    <tr>\n",
       "      <th>111303</th>\n",
       "      <td>1</td>\n",
       "      <td>114.506173</td>\n",
       "    </tr>\n",
       "    <tr>\n",
       "      <th>43826</th>\n",
       "      <td>1</td>\n",
       "      <td>114.506173</td>\n",
       "    </tr>\n",
       "    <tr>\n",
       "      <th>94241</th>\n",
       "      <td>1</td>\n",
       "      <td>114.506173</td>\n",
       "    </tr>\n",
       "    <tr>\n",
       "      <th>43003</th>\n",
       "      <td>1</td>\n",
       "      <td>114.506173</td>\n",
       "    </tr>\n",
       "    <tr>\n",
       "      <th>142377</th>\n",
       "      <td>1</td>\n",
       "      <td>114.506173</td>\n",
       "    </tr>\n",
       "  </tbody>\n",
       "</table>\n",
       "</div>"
      ],
      "text/plain": [
       "        y  sample_weight\n",
       "111303  1     114.506173\n",
       "43826   1     114.506173\n",
       "94241   1     114.506173\n",
       "43003   1     114.506173\n",
       "142377  1     114.506173"
      ]
     },
     "metadata": {},
     "output_type": "display_data"
    }
   ],
   "source": [
    "df_temp = pd.DataFrame({'y': y_train_mod, 'sample_weight': sample_weights})\n",
    "display(df_temp[df_temp['y']==0].head())\n",
    "display(df_temp[df_temp['y']==1].head())"
   ]
  },
  {
   "cell_type": "code",
   "execution_count": 22,
   "metadata": {},
   "outputs": [
    {
     "data": {
      "image/png": "[encoded data removed]",
      "text/plain": [
       "<Figure size 640x480 with 1 Axes>"
      ]
     },
     "metadata": {},
     "output_type": "display_data"
    }
   ],
   "source": [
    "from matplotlib import pyplot as plt \n",
    "\n",
    "pred_proba = xgb_loaded.predict_proba(X_test)[:]\n",
    "pred_proba = pd.DataFrame(pred_proba).round(6)\n",
    "# plt.hist(pred_proba[0], bins=10, ec='white', label='Negative')\n",
    "plt.hist(pred_proba[1], bins=10, ec='white', label='Positive')\n",
    "plt.legend()\n",
    "plt.show()"
   ]
  },
  {
   "cell_type": "markdown",
   "metadata": {},
   "source": [
    "### <font color=\"green\"> omd </font>\n",
    "## Calibrating the output probabilities of an XGBoost model can be achieved through a few methods:\n",
    "\n",
    "1. **Isotonic Regression**: This is a non-parametric method that can be used to transform the output probabilities to be more calibrated¹. Here's an example of how you might use it in Python:\n",
    "\n",
    "```python\n",
    "from sklearn.isotonic import IsotonicRegression\n",
    "\n",
    "# Assume y_pred_train are your predicted probabilities from the training set\n",
    "calibr = IsotonicRegression()\n",
    "calibr.fit(y_pred_train, y_train)\n",
    "\n",
    "# Now you can calibrate your test set predictions\n",
    "y_pred_test_calibrated = calibr.predict(y_pred_test)\n",
    "```\n",
    "\n",
    "2. **Platt Scaling**: This method involves fitting a logistic regression model to the model's scores. This can be done using `CalibratedClassifierCV` in scikit-learn with `method='sigmoid'`². However, this method may not work well with unbalanced problems or non-linear relationships².\n",
    "\n",
    "3. **Adjusting the `scale_pos_weight` parameter**: If you're dealing with imbalanced classes, the `scale_pos_weight` parameter in XGBoost can affect the calibration of your probabilities. You might want to experiment with different values for this parameter¹.\n",
    "\n",
    "4. **Tuning other hyperparameters**: Other hyperparameters such as `max_depth`, `lambda`, and `subsample` can also affect the calibration of your probabilities⁴. You might want to experiment with these as well.\n",
    "\n",
    "Remember, the best method for calibration can depend on your specific use case and data. It's often a good idea to try different methods and see which one works best for your situation. Also, always validate the calibration of your model using a separate validation set to avoid overfitting.\n",
    "\n",
    "Source: Conversation with Bing, 3/24/2024\n",
    "(1) Calibration curve of XGBoost for binary classification. https://stats.stackexchange.com/questions/417806/calibration-curve-of-xgboost-for-binary-classification.\n",
    "(2) XGBoost: how to adjust the probabilities of a binary classifier to .... https://datascience.stackexchange.com/questions/67342/xgboost-how-to-adjust-the-probabilities-of-a-binary-classifier-to-match-trainin.\n",
    "(3) XGBoost Classifier not capturing extreme probabilities. https://stats.stackexchange.com/questions/566392/xgboost-classifier-not-capturing-extreme-probabilities.\n",
    "(4) classification - How to calibrate an XGBoost classifier which has been .... https://stats.stackexchange.com/questions/565244/how-to-calibrate-an-xgboost-classifier-which-has-been-trained-on-a-sampled-datas.\n",
    "(5) XGBoost produce prediction result and probability. https://stackoverflow.com/questions/61082381/xgboost-produce-prediction-result-and-probability."
   ]
  },
  {
   "cell_type": "code",
   "execution_count": 23,
   "metadata": {},
   "outputs": [],
   "source": [
    "# omd\n",
    "\n",
    "from sklearn.isotonic import IsotonicRegression\n",
    "from sklearn.calibration import CalibratedClassifierCV\n",
    "\n",
    "# Calibrate the XGBClassifier\n",
    "calibrated = CalibratedClassifierCV(xgb_loaded, method='isotonic', cv=5)\n",
    "calibrated.fit(X_train, y_train_mod, sample_weight=sample_weights)\n",
    "\n",
    "# Now you can predict probabilities on the test set\n",
    "probabilities = calibrated.predict_proba(X_test)"
   ]
  },
  {
   "cell_type": "code",
   "execution_count": 24,
   "metadata": {},
   "outputs": [
    {
     "data": {
      "image/png": "[encoded data removed]",
      "text/plain": [
       "<Figure size 640x480 with 1 Axes>"
      ]
     },
     "metadata": {},
     "output_type": "display_data"
    }
   ],
   "source": [
    "# omd\n",
    "from matplotlib import ticker as mticker \n",
    "\n",
    "plt.hist(probabilities[:,1], bins=40, ec='white')\n",
    "plt.gca().yaxis.set_major_formatter(mticker.StrMethodFormatter('{x:,.0f}'))\n",
    "plt.gca().xaxis.set_major_formatter(mticker.StrMethodFormatter('{x:.0%}'))\n",
    "plt.title('Calibrated Probability Distribution - Method: Isotonic')\n",
    "plt.ylabel('Number of Observations')\n",
    "plt.xlabel('Probability - Positive Class')\n",
    "plt.grid(True, alpha=0.5);"
   ]
  },
  {
   "cell_type": "markdown",
   "metadata": {},
   "source": [
    "If you have trained an XGBoost classifier using sample weights to address class imbalance and you want to calibrate the predicted probabilities, you can use various calibration methods, such as Platt scaling or isotonic regression. These methods adjust the predicted probabilities to better reflect the true probability estimates.\n",
    "\n",
    "Here's how you can perform Platt scaling using scikit-learn:\n",
    "\n",
    "```python\n",
    "from sklearn.calibration import CalibratedClassifierCV\n",
    "from sklearn.model_selection import train_test_split\n",
    "import xgboost as xgb\n",
    "\n",
    "# Assuming you have already trained an XGBoost classifier\n",
    "# and have X_train, y_train, X_test, y_test\n",
    "\n",
    "# Create a CalibratedClassifierCV instance\n",
    "calibrated_clf = CalibratedClassifierCV(base_estimator=xgb.XGBClassifier(objective='binary:logistic'), method='sigmoid')\n",
    "\n",
    "# Fit the calibrated classifier on the training data\n",
    "calibrated_clf.fit(X_train, y_train, sample_weight=sample_weights)  # Assuming sample_weights are calculated\n",
    "\n",
    "# Predict probabilities for the training data\n",
    "calibrated_probs = calibrated_clf.predict_proba(X_train)[:, 1]\n",
    "\n",
    "# Now calibrated_probs contains the calibrated probabilities\n",
    "```\n",
    "\n",
    "In this example:\n",
    "\n",
    "1. We import `CalibratedClassifierCV` from scikit-learn.\n",
    "2. We create an instance of `CalibratedClassifierCV` with the XGBoost classifier (`xgb.XGBClassifier`) as the base estimator and set the calibration method to `'sigmoid'`, which corresponds to Platt scaling.\n",
    "3. We fit the calibrated classifier on the training data, including the sample weights if necessary.\n",
    "4. We use the calibrated classifier to predict probabilities for the training data. The calibrated probabilities are stored in `calibrated_probs`.\n",
    "\n",
    "After calibrating the probabilities, you can use them for further analysis or decision-making. Adjust the calibration method and parameters as needed for your specific problem and requirements."
   ]
  },
  {
   "cell_type": "markdown",
   "metadata": {},
   "source": [
    "### <font color=\"green\">omd</font>\n",
    "\n",
    "Calibrating the output of an XGBClassifier is not always necessary. The XGBoost algorithm, when used with the 'binary:logistic' objective function, should theoretically produce well-calibrated probabilities¹. However, there are certain situations where calibration might be beneficial or detrimental:\n",
    "\n",
    "1. **Imbalanced Classes**: If you're dealing with imbalanced classes, the `scale_pos_weight` parameter in XGBoost can affect the calibration of your model. Setting `scale_pos_weight` to a value other than 1 might skew your probabilities higher than the data would suggest¹.\n",
    "\n",
    "2. **Calibration Method**: The method used for calibration can also impact the results. For instance, using Platt scaling (method='sigmoid') with gradient boosting might not be the best choice, as gradient boosting tends to push probability toward 0 and 1¹. An alternative could be to try method='isotonic'¹.\n",
    "\n",
    "3. **Model Performance**: Calibration can sometimes negatively impact the performance of your model. For example, one user reported that after calibrating their XGBClassifier, the outputted probabilities were clipped at ~0.75¹.\n",
    "\n",
    "In conclusion, whether or not to calibrate your XGBClassifier depends on your specific use case and the characteristics of your data. It's recommended to experiment with different settings and evaluate the performance of your model accordingly. Always remember to validate your model using a separate test set or cross-validation to ensure its generalizability.\n",
    "\n",
    "Source: Conversation with Bing, 3/30/2024\n",
    "(1) Calibration curve of XGBoost for binary classification. https://stats.stackexchange.com/questions/417806/calibration-curve-of-xgboost-for-binary-classification.\n",
    "(2) How to Configure XGBoost for Imbalanced Classification. https://machinelearningmastery.com/xgboost-for-imbalanced-classification/.\n",
    "(3) How to use CalibratedClassifierCV on already trained xgboost model?. https://stackoverflow.com/questions/61508945/how-to-use-calibratedclassifiercv-on-already-trained-xgboost-model.\n",
    "(4) scikit learn - TypeError with Sklear XGBoost and Sklearn Calibrated .... https://stackoverflow.com/questions/66333573/typeerror-with-sklear-xgboost-and-sklearn-calibrated-classifier-cv.\n",
    "(5) Multiclass classification with xgboost classifier? - Stack Overflow. https://stackoverflow.com/questions/57986259/multiclass-classification-with-xgboost-classifier."
   ]
  },
  {
   "cell_type": "code",
   "execution_count": 194,
   "metadata": {},
   "outputs": [
    {
     "name": "stdout",
     "output_type": "stream",
     "text": [
      "Train set\n",
      "Logistic Regression ROC AUC: 0.9729997074477335\n",
      "Test set\n",
      "Logistic Regression ROC AUC: 0.972824915125416\n",
      "Logistic Regression Precision: 0.1343054489639294\n",
      "Logistic Regression Recall: 0.8641975308641975\n",
      "Logistic Regression F1: 0.23248090335436733\n"
     ]
    },
    {
     "name": "stderr",
     "output_type": "stream",
     "text": [
      "/Users/oliverdreger/opt/anaconda3/envs/ml2023/lib/python3.8/site-packages/sklearn/utils/optimize.py:210: ConvergenceWarning: newton-cg failed to converge. Increase the number of iterations.\n",
      "  warnings.warn(\n"
     ]
    },
    {
     "name": "stdout",
     "output_type": "stream",
     "text": [
      "Intel MKL WARNING: Support of Intel(R) Streaming SIMD Extensions 4.2 (Intel(R) SSE4.2) enabled only processors has been deprecated. Intel oneAPI Math Kernel Library 2025.0 will require Intel(R) Advanced Vector Extensions (Intel(R) AVX) instructions.\n",
      "Intel MKL WARNING: Support of Intel(R) Streaming SIMD Extensions 4.2 (Intel(R) SSE4.2) enabled only processors has been deprecated. Intel oneAPI Math Kernel Library 2025.0 will require Intel(R) Advanced Vector Extensions (Intel(R) AVX) instructions.\n",
      "Intel MKL WARNING: Support of Intel(R) Streaming SIMD Extensions 4.2 (Intel(R) SSE4.2) enabled only processors has been deprecated. Intel oneAPI Math Kernel Library 2025.0 will require Intel(R) Advanced Vector Extensions (Intel(R) AVX) instructions.\n",
      "Intel MKL WARNING: Support of Intel(R) Streaming SIMD Extensions 4.2 (Intel(R) SSE4.2) enabled only processors has been deprecated. Intel oneAPI Math Kernel Library 2025.0 will require Intel(R) Advanced Vector Extensions (Intel(R) AVX) instructions.\n",
      "Intel MKL WARNING: Support of Intel(R) Streaming SIMD Extensions 4.2 (Intel(R) SSE4.2) enabled only processors has been deprecated. Intel oneAPI Math Kernel Library 2025.0 will require Intel(R) Advanced Vector Extensions (Intel(R) AVX) instructions.\n",
      "Intel MKL WARNING: Support of Intel(R) Streaming SIMD Extensions 4.2 (Intel(R) SSE4.2) enabled only processors has been deprecated. Intel oneAPI Math Kernel Library 2025.0 will require Intel(R) Advanced Vector Extensions (Intel(R) AVX) instructions.\n"
     ]
    }
   ],
   "source": [
    "# evaluate performance of algorithm built\n",
    "# cost estimated as imbalance ratio\n",
    "\n",
    "# 'balanced' indicates that we want same amount of \n",
    "# each observation, thus, imbalance ratio\n",
    "\n",
    "run_Logit(X_train,\n",
    "          X_test,\n",
    "          y_train,\n",
    "          y_test,\n",
    "          class_weight='balanced')"
   ]
  },
  {
   "cell_type": "code",
   "execution_count": 25,
   "metadata": {},
   "outputs": [
    {
     "name": "stdout",
     "output_type": "stream",
     "text": [
      "Train set\n",
      "Logistic Regression ROC AUC: 0.957229739778965\n",
      "Test set\n",
      "Logistic Regression ROC AUC: 0.9566074218844622\n",
      "Logistic Regression Precision: 0.6902439024390243\n",
      "Logistic Regression Recall: 0.6987654320987654\n",
      "Logistic Regression F1: 0.694478527607362\n"
     ]
    },
    {
     "name": "stderr",
     "output_type": "stream",
     "text": [
      "/Users/oliverdreger/opt/anaconda3/envs/ml2023/lib/python3.11/site-packages/sklearn/utils/optimize.py:210: ConvergenceWarning: newton-cg failed to converge. Increase the number of iterations.\n",
      "  warnings.warn(\n"
     ]
    }
   ],
   "source": [
    "# evaluate performance of algorithm built\n",
    "# cost estimated as imbalance ratio\n",
    "\n",
    "# alternatively, we can pass a different cost\n",
    "# in a dictionary, if we know it already\n",
    "\n",
    "run_Logit(X_train,\n",
    "          X_test,\n",
    "          y_train,\n",
    "          y_test,\n",
    "          class_weight={-1:1, 1:10})"
   ]
  },
  {
   "cell_type": "markdown",
   "metadata": {},
   "source": [
    "Play with the cost and see what you get in terms of performance."
   ]
  },
  {
   "cell_type": "markdown",
   "metadata": {},
   "source": [
    "## Using sample_weight"
   ]
  },
  {
   "cell_type": "code",
   "execution_count": 26,
   "metadata": {},
   "outputs": [],
   "source": [
    "# Logistic Regression + sample_weight\n",
    "\n",
    "# we pass the weights / cost, when we train the algorithm\n",
    "\n",
    "def run_Logit(X_train, X_test, y_train, y_test, sample_weight):\n",
    "    \n",
    "    logit = LogisticRegression(\n",
    "        penalty='l2',\n",
    "        solver='newton-cg',\n",
    "        random_state=0,\n",
    "        max_iter=10,\n",
    "        n_jobs=4,\n",
    "    )\n",
    "    \n",
    "    # costs are passed here\n",
    "    logit.fit(X_train, y_train, sample_weight=sample_weight)\n",
    "\n",
    "    print('Train set')\n",
    "    pred = logit.predict_proba(X_train)\n",
    "    print(\n",
    "        'Logistic Regression ROC AUC: {}'.format(roc_auc_score(y_train, pred[:, 1])))\n",
    "\n",
    "    print('Test set')\n",
    "    pred = logit.predict_proba(X_test)\n",
    "    print(\n",
    "        'Logistic Regression ROC AUC: {}'.format(roc_auc_score(y_test, pred[:, 1])))\n",
    "    preds = logit.predict(X_test)\n",
    "    print(f\"Logistic Regression Precision: {metrics.precision_score(y_test, preds)}\")\n",
    "    print(f\"Logistic Regression Recall: {metrics.recall_score(y_test, preds)}\")\n",
    "    print(f\"Logistic Regression F1: {metrics.f1_score(y_test, preds)}\")"
   ]
  },
  {
   "cell_type": "code",
   "execution_count": 27,
   "metadata": {},
   "outputs": [
    {
     "name": "stdout",
     "output_type": "stream",
     "text": [
      "Train set\n",
      "Logistic Regression ROC AUC: 0.9230210002189093\n",
      "Test set\n",
      "Logistic Regression ROC AUC: 0.9256916712192443\n",
      "Logistic Regression Precision: 0.9823788546255506\n",
      "Logistic Regression Recall: 0.5506172839506173\n",
      "Logistic Regression F1: 0.7056962025316456\n"
     ]
    },
    {
     "name": "stderr",
     "output_type": "stream",
     "text": [
      "/Users/oliverdreger/opt/anaconda3/envs/ml2023/lib/python3.11/site-packages/sklearn/utils/optimize.py:210: ConvergenceWarning: newton-cg failed to converge. Increase the number of iterations.\n",
      "  warnings.warn(\n"
     ]
    }
   ],
   "source": [
    "# evaluate performance of algorithm built\n",
    "# using imbalanced dataset\n",
    "\n",
    "run_Logit(X_train,\n",
    "          X_test,\n",
    "          y_train,\n",
    "          y_test,\n",
    "          sample_weight=None)"
   ]
  },
  {
   "cell_type": "code",
   "execution_count": 28,
   "metadata": {},
   "outputs": [
    {
     "name": "stdout",
     "output_type": "stream",
     "text": [
      "Train set\n",
      "Logistic Regression ROC AUC: 0.9752757045985172\n",
      "Test set\n",
      "Logistic Regression ROC AUC: 0.9753327514013247\n",
      "Logistic Regression Precision: 0.1328358208955224\n",
      "Logistic Regression Recall: 0.8790123456790123\n",
      "Logistic Regression F1: 0.23079416531604538\n"
     ]
    },
    {
     "name": "stderr",
     "output_type": "stream",
     "text": [
      "/Users/oliverdreger/opt/anaconda3/envs/ml2023/lib/python3.11/site-packages/sklearn/utils/optimize.py:210: ConvergenceWarning: newton-cg failed to converge. Increase the number of iterations.\n",
      "  warnings.warn(\n"
     ]
    }
   ],
   "source": [
    "# evaluate performance of algorithm built\n",
    "# cost estimated as imbalance ratio\n",
    "\n",
    "# with numpy.where, we introduce a cost of 99 to\n",
    "# each observation of the minority class, and 1\n",
    "# otherwise.\n",
    "\n",
    "run_Logit(X_train,\n",
    "          X_test,\n",
    "          y_train,\n",
    "          y_test,\n",
    "          sample_weight=np.where(y_train==1,99,1))"
   ]
  },
  {
   "cell_type": "markdown",
   "metadata": {},
   "source": [
    "## Conclusion\n",
    "\n",
    "Cost-sensitive learning has improved the performance of the model.\n",
    "\n",
    "**HOMEWORK**\n",
    "\n",
    "Try other machine learning algorithms and other datasets available in imbalanced-learn"
   ]
  },
  {
   "cell_type": "code",
   "execution_count": null,
   "metadata": {},
   "outputs": [],
   "source": []
  }
 ],
 "metadata": {
  "kernelspec": {
   "display_name": "ml2023",
   "language": "python",
   "name": "python3"
  },
  "language_info": {
   "codemirror_mode": {
    "name": "ipython",
    "version": 3
   },
   "file_extension": ".py",
   "mimetype": "text/x-python",
   "name": "python",
   "nbconvert_exporter": "python",
   "pygments_lexer": "ipython3",
   "version": "3.11.0"
  },
  "toc": {
   "base_numbering": 1,
   "nav_menu": {},
   "number_sections": true,
   "sideBar": true,
   "skip_h1_title": false,
   "title_cell": "Table of Contents",
   "title_sidebar": "Contents",
   "toc_cell": false,
   "toc_position": {},
   "toc_section_display": true,
   "toc_window_display": true
  }
 },
 "nbformat": 4,
 "nbformat_minor": 4
}
